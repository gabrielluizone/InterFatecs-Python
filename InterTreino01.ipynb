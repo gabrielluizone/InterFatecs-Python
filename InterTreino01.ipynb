{
  "nbformat": 4,
  "nbformat_minor": 0,
  "metadata": {
    "colab": {
      "provenance": [],
      "authorship_tag": "ABX9TyPeghK/a54w+m7A9tqCTyLk",
      "include_colab_link": true
    },
    "kernelspec": {
      "name": "python3",
      "display_name": "Python 3"
    },
    "language_info": {
      "name": "python"
    }
  },
  "cells": [
    {
      "cell_type": "markdown",
      "metadata": {
        "id": "view-in-github",
        "colab_type": "text"
      },
      "source": [
        "<a href=\"https://colab.research.google.com/github/gabrielluizone/import-time/blob/main/InterTreino01.ipynb\" target=\"_parent\"><img src=\"https://colab.research.google.com/assets/colab-badge.svg\" alt=\"Open In Colab\"/></a>"
      ]
    },
    {
      "cell_type": "markdown",
      "source": [
        "<div class=\"markdown-google-sans\">\n",
        "\n",
        "# **Torre**\n",
        "</div>\n",
        "\n",
        "Dada uma matriz quadrada $M$ de números naturais, o índice $i$ de uma certa linha e o índice $j$ de uma certa coluna, vamos definir o peso do cruzamento da linha $i$ com a coluna $j$, como sendo a soma de todos os elementos que estejam na linha $i$ ou na coluna $j$, mas não nas duas. Quer dizer, excluindo o elemento que está exatamente no cruzamento! Neste problema, você deve descobrir qual é o peso máximo entre todos os possíveis cruzamentos da matriz!\n",
        "\n",
        "No jogo de xadrez, a torre é uma peça que pode se mover para qualquer outra posição do tabuleiro na linha ou na coluna da posição que ela ocupa. O professor Paulo está tentando inventar um novo tipo de jogo de xadrez onde todas as peças são torres, o tabuleiro também é quadrado mas pode ter qualquer dimensão e cada posição do tabuleiro é anotada com um número inteiro positivo, como na figura abaixo.\n",
        "\n",
        "![](https://api.neps.academy/image/1302.png)\n",
        "\n",
        "Ele definiu o peso de uma posição $(i,j)$ como sendo a soma de todos os números que estejam na linha $i$ com todos os números da coluna $j$, mas sem somar o número que está exatamente na posição $(i,j)$. Quer dizer, se uma torre estiver na posição $(i,j)$, o peso da posição é a soma de todas as posições que essa torre poderia atacar.\n",
        "\n",
        "O professor Paulo está solicitando a sua ajuda para implementar um programa que determine qual é o peso máximo entre todas as posições do tabuleiro.\n",
        "\n",
        "No exemplo da figura acima, com um tabuleiro de dimensão seis (ou seja, seis linhas por seis colunas), o peso máximo é 67, referente à posição $(4,4)$.\n",
        "\n",
        "### Entrada\n",
        "> A primeira linha da entrada contém um inteiro $N$, representando a dimensão do tabuleiro.\\\n",
        "Cada uma das $N$ linhas seguintes contém $N$ inteiros positivos $X_i$, definindo os números em cada posição do tabuleiro.\n",
        "\n",
        "### Saída\n",
        "> Seu programa deve produzir uma única linha, contendo um único inteiro, o peso máximo entre todas as posições do tabuleiro.\n",
        "\n",
        "### Restrições\n",
        "> - $3 \\leq N \\leq 1000$\n",
        "- $0 \\leq X_i \\leq 100$\n",
        "\n",
        "| Exemplos de Entrada                                     | Exemplos de Saída |\n",
        "|---------------------------------------------------------|-------------------|\n",
        "| 6<br>4 1 3 8 4 5<br>9 2 8 9 2 7<br>5 5 4 3 2 5<br>8 2 9 1 9 8<br>7 1 3 2 1 2<br>5 1 2 9 3 8 | 67                |\n",
        "| 3<br>5 1 1<br>5 2 1<br>8 5 5                             | 20                |\n"
      ],
      "metadata": {
        "id": "lR6xUXGo_yy-"
      }
    },
    {
      "cell_type": "code",
      "source": [
        "def main():\n",
        "  N = int(input())\n",
        "\n",
        "  M = []\n",
        "  mmin = 0\n",
        "\n",
        "  l_matrix = [int(x) for x in input().split(' ')]\n",
        "  for i in range(N):\n",
        "    M.append(l_matrix[mmin:N+mmin])\n",
        "    mmin += N\n",
        "\n",
        "  scores = {}\n",
        "  for i in range(N): # Linha\n",
        "    for j in range(N): # Coluna\n",
        "      line = [m for m in M[i]] # Deve ser desse jeito\n",
        "      #line.insert(j, 0)\n",
        "      sum_line = sum(line) - M[i][j]\n",
        "\n",
        "      column = [linha[j] for linha in M]\n",
        "      #column.insert(i, 0)\n",
        "      sum_column = sum(column) - M[i][j]\n",
        "\n",
        "      #print(f'[{i+1}|{j+1}] {M[i][j]} = {sum_line}, {sum_column}')\n",
        "      final_score = sum_line + sum_column\n",
        "      scores[f'{i+1}, {j+1}'] = final_score\n",
        "\n",
        "  max_score = scores.values()\n",
        "  print(max(max_score))\n",
        "\n",
        "if __name__ == \"__main__\":\n",
        "    main()"
      ],
      "metadata": {
        "colab": {
          "base_uri": "https://localhost:8080/"
        },
        "id": "gooXf-2VrOOk",
        "outputId": "8a455ace-31ad-4083-cf3c-50286982a9af"
      },
      "execution_count": 101,
      "outputs": [
        {
          "output_type": "stream",
          "name": "stdout",
          "text": [
            "3\n",
            "5 1 1 5 2 1 8 5 5\n",
            "20\n"
          ]
        }
      ]
    },
    {
      "cell_type": "code",
      "source": [
        "\"\"\"\n",
        "6\n",
        "4 1 3 8 4 5\n",
        "9 2 8 9 2 7\n",
        "5 5 4 3 2 5\n",
        "8 2 9 1 9 8\n",
        "7 1 3 2 1 2\n",
        "5 1 2 9 3 8\n",
        "\"\"\""
      ],
      "metadata": {
        "colab": {
          "base_uri": "https://localhost:8080/",
          "height": 36
        },
        "id": "RRktuWwXwLWp",
        "outputId": "3d5acf0c-f6e3-4761-edb5-5af104a686fd"
      },
      "execution_count": 103,
      "outputs": [
        {
          "output_type": "execute_result",
          "data": {
            "text/plain": [
              "'\\n6\\n4 1 3 8 4 5\\n9 2 8 9 2 7\\n5 5 4 3 2 5\\n8 2 9 1 9 8\\n7 1 3 2 1 2\\n5 1 2 9 3 8\\n'"
            ],
            "application/vnd.google.colaboratory.intrinsic+json": {
              "type": "string"
            }
          },
          "metadata": {},
          "execution_count": 103
        }
      ]
    }
  ]
}
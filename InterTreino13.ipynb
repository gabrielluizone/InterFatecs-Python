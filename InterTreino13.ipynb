{
  "nbformat": 4,
  "nbformat_minor": 0,
  "metadata": {
    "colab": {
      "provenance": [],
      "authorship_tag": "ABX9TyOw1iShA8b/iOFT7dK9q3wC",
      "include_colab_link": true
    },
    "kernelspec": {
      "name": "python3",
      "display_name": "Python 3"
    },
    "language_info": {
      "name": "python"
    }
  },
  "cells": [
    {
      "cell_type": "markdown",
      "metadata": {
        "id": "view-in-github",
        "colab_type": "text"
      },
      "source": [
        "<a href=\"https://colab.research.google.com/github/gabrielluizone/InterFatecs-Python/blob/main/InterTreino13.ipynb\" target=\"_parent\"><img src=\"https://colab.research.google.com/assets/colab-badge.svg\" alt=\"Open In Colab\"/></a>"
      ]
    },
    {
      "cell_type": "markdown",
      "source": [
        "<div class=\"markdown-google-sans\">\n",
        "\n",
        "# **[Fórmula 1](https://neps.academy/br/exercise/245)**\n",
        "\n",
        "A temporada de Fórmula 1 consiste de uma série de corridas, conhecidas como Grandes Prêmios, organizados pela Federação Internacional de Automobilismo (FIA). Os resultados de cada Grande Prêmio são combinados para determinar o Campeonato Mundial de Pilotos. Mais especificamente, a cada Grande Prêmio são distribuídos pontos para os pilotos, dependendo da classificação na corrida. Ao final da temporada, o piloto que tiver somado o maior número de pontos é declarado Campeão Mundial de Pilotos.\n",
        "\n",
        "Os organizadores da Fórmula 1 mudam constantemente as regras da competição, com o objetivo de dar mais emoção às disputas. Uma regra modificada para a temporada de 2010 foi justamente a distribuição de pontos em cada Grande Prêmio. Desde 2003 a regra de pontuação premiava os oito primeiros colocados, obedecendo a seguinte tabela:\n",
        "\n",
        "![Figura 1](https://api.neps.academy/image/143.png)\n",
        "\n",
        "Ou seja, o piloto vencedor ganhava 10 pontos, o segundo colocado ganhava 8 pontos, e assim por diante.\n",
        "\n",
        "Na temporada de 2010 os dez primeiros colocados receberão pontos, obedecendo a seguinte tabela:\n",
        "\n",
        "![Figura 2](https://api.neps.academy/image/144.png)\n",
        "\n",
        "A mudança no sistema de pontuação provocou muita especulação sobre qual teria sido o efeito nos Campeonatos Mundiais passados se a nova pontuação tivesse sido utilizada nas temporadas anteriores. Por exemplo, teria Lewis Hamilton sido campeão em 2008, já que a diferença de sua pontuação total para Felipe Massa foi de apenas um ponto? Para acabar com as especulações, a FIA contratou você para escrever um programa que, dados os resultados de cada corrida de uma temporada determine Campeão Mundial de Pilotos para sistemas de pontuações diferentes.\n",
        "\n",
        "#### Entrada\n",
        "\n",
        "A entrada contém vários casos de teste. A primeira linha de um caso de teste contém dois números inteiros `G` e `P` separados por um espaço em branco, indicando respectivamente o número de Grandes Prêmios e o número de pilotos. Os pilotos são identificados por inteiros de 1 a `P`. Cada uma das `G` linhas seguintes indica o resultado de uma corrida, e contém `P` inteiros separados por espaços em branco. Em cada linha, o i-ésimo número indica a ordem de chegada do piloto i na corrida (o primeiro número indica a ordem de chegada do piloto 1 naquela corrida, o segundo número indica a ordem de chegada do piloto 2 na corrida, e assim por diante). A linha seguinte contém um único número inteiro `S` indicando o número de sistemas de pontuação, e após, cada uma das `S` linhas seguintes contém a descrição de um sistema de pontuação. A descrição de um sistema de pontuação inicia com um inteiro `K`, indicando a última ordem de chegada que receberá pontos, seguido de um espaço em branco, seguido de `K` inteiros `k_0, k_1, ..., k_{K-1}` separados por espaços em branco, indicando os pontos a serem atribuídos (o primeiro inteiro indica os pontos do primeiro colocado, o segundo inteiro indica os pontos do segundo colocado, e assim por diante).\n",
        "\n",
        "O último caso de teste é seguido por uma linha que contém apenas dois números zero separados por um espaço em branco.\n",
        "\n",
        "#### Saída\n",
        "\n",
        "Para cada caso de sistema de pontuação da entrada seu programa deve imprimir uma linha, que deve conter o identificador do Campeão Mundial de Pilotos. Se houver mais de um Campeão Mundial Pilotos (ou seja, se houver empate), a linha deve conter todos os Campeões Mundiais de Pilotos, em ordem crescente de identificador, separados por um espaço em branco.\n",
        "\n",
        "#### Restrições\n",
        "\n",
        "- $1 \\leq G \\leq 100$\n",
        "- $1 \\leq P \\leq 100$\n",
        "- $1 \\leq S \\leq 10$\n",
        "- $1 \\leq K \\leq P$\n",
        "- $1 \\leq k_i \\leq 100$\n",
        "\n",
        "### Exemplos de Entrada\n",
        "\n",
        "```\n",
        "1 3\n",
        "3 2 1\n",
        "3\n",
        "3 5 3 2\n",
        "3 5 3 1\n",
        "3 1 1 1\n",
        "3 10\n",
        "1 2 3 4 5 6 7 8 9 10\n",
        "10 1 2 3 4 5 6 7 8 9\n",
        "9 10 1 2 3 4 5 6 7 8\n",
        "2\n",
        "5 5 4 3 2 1\n",
        "3 10 5 1\n",
        "2 4\n",
        "1 3 4 2\n",
        "4 1 3 2\n",
        "2\n",
        "3 3 2 1\n",
        "3 5 4 2\n",
        "0 0\n",
        "```\n",
        "\n",
        "### Exemplos de Saída\n",
        "\n",
        "```\n",
        "3\n",
        "3\n",
        "1 2 3\n",
        "3\n",
        "3\n",
        "2 4\n",
        "4\n",
        "```"
      ],
      "metadata": {
        "id": "rUtgj6-ukacb"
      }
    },
    {
      "cell_type": "code",
      "source": [
        "#def main():\n",
        "if True:\n",
        "  while True:\n",
        "\n",
        "    G, P = map(int, input().split())\n",
        "    if G == P == 0: break\n",
        "\n",
        "    posicoes = []\n",
        "    for g in range(G):\n",
        "      temp = list(map(int, input().split()))\n",
        "      # {Posição : [ Corredor , Pontuação ]}\n",
        "      posicoes.append({i: temp[i] for i in range(P)})\n",
        "\n",
        "    S = int(input())\n",
        "    final = [{} for _ in range(S)]\n",
        "    final = [{} for _ in range(S)]\n",
        "\n",
        "    for s in range(S):\n",
        "      K = list(map(int, input().split()))\n",
        "      ki = K[1:]\n",
        "\n",
        "      for p in range(P):\n",
        "        final[s][p+1] = 0\n",
        "\n",
        "      for g in range(G):\n",
        "        for i, ponto in enumerate(ki):\n",
        "          final[s][posicoes[g][i]] += ponto\n",
        "\n",
        "    show = [[] for _ in range(S)]\n",
        "    for n, f in enumerate(final):\n",
        "      mx = max(f.values())\n",
        "      for i in f:\n",
        "        if f[i] == mx:\n",
        "          show[n].append(i)\n",
        "\n",
        "    for s in range(S): print(' ::', *sorted(show[s]))"
      ],
      "metadata": {
        "colab": {
          "base_uri": "https://localhost:8080/"
        },
        "id": "ONqqqvAU8XgA",
        "outputId": "251ad477-4e9f-4271-ee88-3d0848bbb104"
      },
      "execution_count": 134,
      "outputs": [
        {
          "name": "stdout",
          "output_type": "stream",
          "text": [
            "1 3\n",
            "3 2 1\n",
            "3\n",
            "3 5 3 2\n",
            "3 5 3 1\n",
            "3 1 1 1\n",
            " :: 3\n",
            " :: 3\n",
            " :: 1 2 3\n",
            "3 10\n",
            "1 2 3 4 5 6 7 8 9 10\n",
            "10 1 2 3 4 5 6 7 8 9\n",
            "9 10 1 2 3 4 5 6 7 8\n",
            "2\n",
            "5 5 4 3 2 1\n",
            "3 10 5 1\n",
            " :: 1\n",
            " :: 1\n",
            "2 4\n",
            "1 3 4 2\n",
            "4 1 3 2\n",
            "2\n",
            "3 3 2 1\n",
            "3 5 4 2\n",
            " :: 1\n",
            " :: 1\n",
            "0 0\n"
          ]
        }
      ]
    },
    {
      "cell_type": "markdown",
      "source": [
        "# HAAAAAAAAAAAAAAAAAAAAAAAAAAAAAAAAAA não é possÍvel\n",
        "- ## `INACEITÁVEL`"
      ],
      "metadata": {
        "id": "QNiEe8wfTdWv"
      }
    },
    {
      "cell_type": "code",
      "source": [
        "final"
      ],
      "metadata": {
        "colab": {
          "base_uri": "https://localhost:8080/"
        },
        "id": "NXQgibldTWFf",
        "outputId": "b57e1e2d-233d-414c-d726-1aa90d2fa4c9"
      },
      "execution_count": 135,
      "outputs": [
        {
          "output_type": "execute_result",
          "data": {
            "text/plain": [
              "[{1: 5, 2: 0, 3: 3, 4: 4}, {1: 9, 2: 0, 3: 6, 4: 7}]"
            ]
          },
          "metadata": {},
          "execution_count": 135
        }
      ]
    },
    {
      "cell_type": "code",
      "source": [],
      "metadata": {
        "colab": {
          "base_uri": "https://localhost:8080/"
        },
        "id": "OzTDrNVg1pyi",
        "outputId": "adb6e212-232d-43f5-9195-471f5613f4e4"
      },
      "execution_count": 96,
      "outputs": [
        {
          "output_type": "execute_result",
          "data": {
            "text/plain": [
              "[{1: 3, 2: 2, 3: 1, 4: 1, 5: 1, 10: 4, 9: 5}, {1: 1, 2: 1, 3: 1, 10: 5, 9: 10}]"
            ]
          },
          "metadata": {},
          "execution_count": 96
        }
      ]
    },
    {
      "cell_type": "code",
      "source": [
        "final = [{} for _ in range(S)]\n",
        "for s in range(S):\n",
        "  for p in range(10):\n",
        "    final[s][p+1] = 0\n",
        "\n",
        "for s in range(S):\n",
        "  K = list(map(int, input().split()))\n",
        "  ki = K[1:]\n",
        "\n",
        "  for g in range(3):\n",
        "    for i, ponto in enumerate(ki):\n",
        "      final[s][posicoes[g][i][0]] += ponto"
      ],
      "metadata": {
        "colab": {
          "base_uri": "https://localhost:8080/"
        },
        "id": "8dQfNyu3v0GV",
        "outputId": "96fe7d9e-b2f0-4950-963f-6718d4dd0f5a"
      },
      "execution_count": 88,
      "outputs": [
        {
          "name": "stdout",
          "output_type": "stream",
          "text": [
            "5 5 4 3 2 1\n",
            "3 10 5 1\n"
          ]
        },
        {
          "output_type": "execute_result",
          "data": {
            "text/plain": [
              "[{1: 12, 2: 9, 3: 6, 4: 3, 5: 1, 6: 0, 7: 0, 8: 0, 9: 5, 10: 9},\n",
              " {1: 16, 2: 6, 3: 1, 4: 0, 5: 0, 6: 0, 7: 0, 8: 0, 9: 10, 10: 15}]"
            ]
          },
          "metadata": {},
          "execution_count": 88
        }
      ]
    },
    {
      "cell_type": "code",
      "source": [
        "posicoes[1][0][0]"
      ],
      "metadata": {
        "colab": {
          "base_uri": "https://localhost:8080/"
        },
        "id": "KCMWasxrvKY9",
        "outputId": "296a12b0-83e2-4ea0-c9e9-40b465234e62"
      },
      "execution_count": 61,
      "outputs": [
        {
          "output_type": "execute_result",
          "data": {
            "text/plain": [
              "10"
            ]
          },
          "metadata": {},
          "execution_count": 61
        }
      ]
    },
    {
      "cell_type": "code",
      "source": [
        "posicoes"
      ],
      "metadata": {
        "colab": {
          "base_uri": "https://localhost:8080/"
        },
        "id": "K6KudhnXuMjl",
        "outputId": "525f2b6c-f47e-4a68-aa09-144ea7a5ed82"
      },
      "execution_count": 51,
      "outputs": [
        {
          "output_type": "execute_result",
          "data": {
            "text/plain": [
              "[{0: [1, 0],\n",
              "  1: [2, 0],\n",
              "  2: [3, 0],\n",
              "  3: [4, 0],\n",
              "  4: [5, 0],\n",
              "  5: [6, 0],\n",
              "  6: [7, 0],\n",
              "  7: [8, 0],\n",
              "  8: [9, 0],\n",
              "  9: [10, 0]},\n",
              " {0: [10, 0],\n",
              "  1: [1, 0],\n",
              "  2: [2, 0],\n",
              "  3: [3, 0],\n",
              "  4: [4, 0],\n",
              "  5: [5, 0],\n",
              "  6: [6, 0],\n",
              "  7: [7, 0],\n",
              "  8: [8, 0],\n",
              "  9: [9, 0]},\n",
              " {0: [9, 0],\n",
              "  1: [10, 0],\n",
              "  2: [1, 0],\n",
              "  3: [2, 0],\n",
              "  4: [3, 0],\n",
              "  5: [4, 0],\n",
              "  6: [5, 0],\n",
              "  7: [6, 0],\n",
              "  8: [7, 0],\n",
              "  9: [8, 0]}]"
            ]
          },
          "metadata": {},
          "execution_count": 51
        }
      ]
    },
    {
      "cell_type": "code",
      "source": [
        "show = [[] for _ in range(S)]\n",
        "for n, f in enumerate(final):\n",
        "  mx = max(f.values())\n",
        "  for i in f:\n",
        "    if f[i] == mx:\n",
        "      show[n].append(i)\n",
        "\n",
        "show"
      ],
      "metadata": {
        "colab": {
          "base_uri": "https://localhost:8080/"
        },
        "id": "4JGKFQuqv9SH",
        "outputId": "17d57cac-80d1-4502-c9ac-57b198b01f26"
      },
      "execution_count": null,
      "outputs": [
        {
          "output_type": "execute_result",
          "data": {
            "text/plain": [
              "[[3], [3], [3, 2, 1]]"
            ]
          },
          "metadata": {},
          "execution_count": 41
        }
      ]
    },
    {
      "cell_type": "code",
      "source": [
        "final"
      ],
      "metadata": {
        "colab": {
          "base_uri": "https://localhost:8080/"
        },
        "id": "gY1-08Q6vSHJ",
        "outputId": "b6d87232-6f75-4bd0-bf44-18f0170d40e6"
      },
      "execution_count": null,
      "outputs": [
        {
          "output_type": "execute_result",
          "data": {
            "text/plain": [
              "[{1: 3, 2: 2, 3: 1, 4: 0, 5: 0, 6: 0, 7: 0, 8: 0, 9: 5, 10: 4},\n",
              " {1: 1, 2: 0, 3: 0, 4: 0, 5: 0, 6: 0, 7: 0, 8: 0, 9: 10, 10: 5}]"
            ]
          },
          "metadata": {},
          "execution_count": 44
        }
      ]
    },
    {
      "cell_type": "code",
      "source": [
        "posicoes"
      ],
      "metadata": {
        "colab": {
          "base_uri": "https://localhost:8080/"
        },
        "id": "eaj0yDIuwAuA",
        "outputId": "8d3bfd43-258f-49d0-8800-40621f900678"
      },
      "execution_count": null,
      "outputs": [
        {
          "output_type": "execute_result",
          "data": {
            "text/plain": [
              "[{0: [1, 15],\n",
              "  1: [2, 9],\n",
              "  2: [3, 4],\n",
              "  3: [4, 2],\n",
              "  4: [5, 1],\n",
              "  5: [6, 0],\n",
              "  6: [7, 0],\n",
              "  7: [8, 0],\n",
              "  8: [9, 0],\n",
              "  9: [10, 0]},\n",
              " {0: [10, 15],\n",
              "  1: [1, 9],\n",
              "  2: [2, 4],\n",
              "  3: [3, 2],\n",
              "  4: [4, 1],\n",
              "  5: [5, 0],\n",
              "  6: [6, 0],\n",
              "  7: [7, 0],\n",
              "  8: [8, 0],\n",
              "  9: [9, 0]},\n",
              " {0: [9, 15],\n",
              "  1: [10, 9],\n",
              "  2: [1, 4],\n",
              "  3: [2, 2],\n",
              "  4: [3, 1],\n",
              "  5: [4, 0],\n",
              "  6: [5, 0],\n",
              "  7: [6, 0],\n",
              "  8: [7, 0],\n",
              "  9: [8, 0]}]"
            ]
          },
          "metadata": {},
          "execution_count": 47
        }
      ]
    }
  ]
}
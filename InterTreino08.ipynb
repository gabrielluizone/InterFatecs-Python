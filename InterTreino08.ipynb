{
  "nbformat": 4,
  "nbformat_minor": 0,
  "metadata": {
    "colab": {
      "provenance": [],
      "authorship_tag": "ABX9TyMm24BAOAkndF7dQKRejbga",
      "include_colab_link": true
    },
    "kernelspec": {
      "name": "python3",
      "display_name": "Python 3"
    },
    "language_info": {
      "name": "python"
    }
  },
  "cells": [
    {
      "cell_type": "markdown",
      "metadata": {
        "id": "view-in-github",
        "colab_type": "text"
      },
      "source": [
        "<a href=\"https://colab.research.google.com/github/gabrielluizone/import-time/blob/main/InterTreino08.ipynb\" target=\"_parent\"><img src=\"https://colab.research.google.com/assets/colab-badge.svg\" alt=\"Open In Colab\"/></a>"
      ]
    },
    {
      "cell_type": "markdown",
      "source": [
        "<div class=\"markdown-google-sans\">\n",
        "\n",
        "# **[Copa do Mundo (OBI 2010)](https://neps.academy/br/exercise/276)**\n",
        "\n",
        "Este ano tem Copa do Mundo! O país inteiro se prepara para torcer para a equipe canarinho conquistar mais um título, tornando-se hexacampeã.\n",
        "\n",
        "Na Copa do Mundo, depois de uma fase de grupos, dezesseis equipes disputam a Fase Final, composta de quinze jogos eliminatórios. A figura abaixo mostra a tabela de jogos da Fase Final:\n",
        "\n",
        "![Tabela de Jogos](https://api.neps.academy/image/1358.png)\n",
        "\n",
        "*Figura 1*\n",
        "\n",
        "Dados os resultados dos quinze jogos da Fase Final, escreva um programa que determine a equipe campeã.\n",
        "\n",
        "### Entrada\n",
        "\n",
        "A entrada é composta de quinze linhas, cada uma contendo o resultado de um jogo. A primeira linha contém o resultado do jogo de número 1, a segunda linha o resultado do jogo de número 2, e assim por diante. O resultado de um jogo é representado por dois números inteiros *M* e *N* separados por um espaço em branco, indicando respectivamente o número de gols da equipe representada à esquerda e à direita na tabela de jogos.\n",
        "\n",
        "### Saída\n",
        "\n",
        "Seu programa deve imprimir uma única linha, contendo a letra identificadora da equipe campeã.\n",
        "\n",
        "### Restrições\n",
        "\n",
        "- 0 ≤ *N*\n",
        "- *M* ≤ 20\n",
        "- *M* ≠ *N*\n",
        "\n",
        "#### Exemplos de Entrada\n",
        "\n",
        "```\n",
        "4 1\n",
        "1 0\n",
        "0 4\n",
        "3 1\n",
        "2 3\n",
        "1 2\n",
        "2 0\n",
        "0 2\n",
        "1 2\n",
        "4 3\n",
        "0 1\n",
        "3 2\n",
        "3 4\n",
        "1 4\n",
        "1 0\n",
        "```\n",
        "\n",
        "#### Exemplos de Saída\n",
        "\n",
        "```\n",
        "F\n",
        "```\n",
        "\n",
        "---\n",
        "\n",
        "Se precisar de mais alguma coisa, é só avisar!"
      ],
      "metadata": {
        "id": "rUtgj6-ukacb"
      }
    },
    {
      "cell_type": "code",
      "source": [
        "def main():\n",
        "  gols = []\n",
        "  times = [['A','B'],['C','D'],['E','F'],['G','H'],['I','J'],['K','L'],['M','N'],['O','P']]\n",
        "  vencedores = []\n",
        "\n",
        "  for i in range(15): gols.append(list(map(int, input().split(' '))))\n",
        "\n",
        "  # Oitavas-de-final\n",
        "  for i in range(8):\n",
        "    if gols[i][0] > gols[i][1]: vencedores.append(times[i][0])\n",
        "    else: vencedores.append(times[i][1])\n",
        "\n",
        "  times.clear()\n",
        "  gols = gols[8:]\n",
        "\n",
        "  for i in range(0, 8, 2):\n",
        "    times.append([vencedores[i], vencedores[i+1]])\n",
        "\n",
        "  vencedores.clear()\n",
        "\n",
        "  # Quartas-de-final\n",
        "  for i in range(4):\n",
        "    if gols[i][0] > gols[i][1]: vencedores.append(times[i][0])\n",
        "    else: vencedores.append(times[i][1])\n",
        "\n",
        "  times.clear()\n",
        "  gols = gols[4:]\n",
        "\n",
        "  for i in range(0, 4, 2):\n",
        "    times.append([vencedores[i], vencedores[i+1]])\n",
        "\n",
        "  vencedores.clear()\n",
        "\n",
        "  # Semifinais\n",
        "  for i in range(2):\n",
        "    if gols[i][0] > gols[i][1]: vencedores.append(times[i][0])\n",
        "    else: vencedores.append(times[i][1])\n",
        "\n",
        "  times.clear()\n",
        "  gols = gols[2:][0]\n",
        "  times.append([vencedores[0], vencedores[1]])\n",
        "\n",
        "  # Finais\n",
        "  if gols[0] > gols[1]: print(times[0][0])\n",
        "  else: print(times[0][1])\n",
        "\n",
        "if __name__ == '__main__':\n",
        "  main()"
      ],
      "metadata": {
        "id": "jyMfh4-ykaF1",
        "colab": {
          "base_uri": "https://localhost:8080/"
        },
        "outputId": "ccf984c8-b071-408e-b240-81d6c78cd1ab"
      },
      "execution_count": 34,
      "outputs": [
        {
          "output_type": "stream",
          "name": "stdout",
          "text": [
            "4 1\n",
            "1 0\n",
            "0 4\n",
            "3 1\n",
            "2 3\n",
            "1 2\n",
            "2 0\n",
            "0 2\n",
            "1 2\n",
            "4 3\n",
            "0 1\n",
            "3 2\n",
            "3 4\n",
            "1 4\n",
            "1 0\n",
            "F\n"
          ]
        }
      ]
    },
    {
      "cell_type": "code",
      "source": [],
      "metadata": {
        "id": "_vS95J_3Nmdn"
      },
      "execution_count": null,
      "outputs": []
    }
  ]
}
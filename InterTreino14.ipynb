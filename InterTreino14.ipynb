{
  "nbformat": 4,
  "nbformat_minor": 0,
  "metadata": {
    "colab": {
      "provenance": [],
      "authorship_tag": "ABX9TyPx98iWHZ++e4rjnRTGj0Ak",
      "include_colab_link": true
    },
    "kernelspec": {
      "name": "python3",
      "display_name": "Python 3"
    },
    "language_info": {
      "name": "python"
    }
  },
  "cells": [
    {
      "cell_type": "markdown",
      "metadata": {
        "id": "view-in-github",
        "colab_type": "text"
      },
      "source": [
        "<a href=\"https://colab.research.google.com/github/gabrielluizone/InterFatecs-Python/blob/main/InterTreino14.ipynb\" target=\"_parent\"><img src=\"https://colab.research.google.com/assets/colab-badge.svg\" alt=\"Open In Colab\"/></a>"
      ]
    },
    {
      "cell_type": "markdown",
      "source": [
        "<div class=\"markdown-google-sans\">\n",
        "\n",
        "# **[Soma de Casas](https://neps.academy/br/exercise/255)**\n",
        "\n",
        "Joãozinho mora em uma rua que tem *N* casas. Marquinhos é o melhor amigo dele, mas sempre gosta de pregar peças em Joãozinho. Desta vez, ele pegou os dois brinquedos prediletos de Joãozinho e os escondeu em duas casas distintas da rua. Em compensação, Marquinhos deu uma dica importante para Joãozinho:\n",
        "\n",
        "A soma dos números das casas em que escondi teus brinquedos é igual a *K*. Além disso, escolhi as casas de tal forma que não existe outro par de casas cuja soma tenha esse mesmo valor.\n",
        "\n",
        "Sabendo disto, encontre qual é o par de casas em que se encontram os brinquedos de Joãozinho. Para auxiliar seu amigo, Marquinhos entregou a Joãozinho uma lista com o número das casas já em ordem crescente (isto é, do menor para o maior número).\n",
        "\n",
        "#### Entrada\n",
        "A primeira primeira linha da entrada contém um número inteiro *N*, que representa o número de casas que existem na rua. Cada uma das *N* linhas seguintes contém um número inteiro, representando o número de uma casa. Note que esses *N* números estão ordenados, do menor para o maior.\n",
        "\n",
        "A última linha da entrada contém um inteiro *K*, que é a soma dos números das duas casas onde os brinquedos estão escondidos.\n",
        "\n",
        "#### Saída\n",
        "Se programa deve imprimir uma única linha, contendo dois inteiros, *A* e *B*, *A < B*, que representam os números das casas em que estão escondidos os brinquedos. Os dois números devem ser separados por um espaço em branco.\n",
        "\n",
        "#### Restrições\n",
        "- 2 ≤ *N* ≤ 10^5\n",
        "- 0 ≤ *C\n",
        "\n",
        "*i* ≤ 10^9\n",
        "\n",
        "### Exemplos de Entrada\n",
        "```\n",
        "4\n",
        "1\n",
        "2\n",
        "3\n",
        "5\n",
        "8\n",
        "```\n",
        "```\n",
        "4\n",
        "1\n",
        "2\n",
        "3\n",
        "5\n",
        "5\n",
        "```\n",
        "\n",
        "### Exemplos de Saída\n",
        "```\n",
        "3 5\n",
        "```\n",
        "```\n",
        "2 3\n",
        "```"
      ],
      "metadata": {
        "id": "rUtgj6-ukacb"
      }
    },
    {
      "cell_type": "code",
      "source": [
        "# Antes\n",
        "def main():\n",
        "  N = int(input())\n",
        "  M = []\n",
        "  for _ in range(N): M.append(int(input()))\n",
        "  K = int(input())\n",
        "\n",
        "  while M:\n",
        "    for i in range(1, len(M)):\n",
        "      if M[0] + M[i] == K:\n",
        "        print(f'{M[0]} {M[i]}')\n",
        "        break\n",
        "\n",
        "    M.pop(0)\n",
        "\n",
        "if __name__ == '__main__':\n",
        "  main()"
      ],
      "metadata": {
        "colab": {
          "base_uri": "https://localhost:8080/"
        },
        "id": "fumwA229EAhP",
        "outputId": "fd24732d-7c6c-44d6-b4f0-984482a319e5"
      },
      "execution_count": 7,
      "outputs": [
        {
          "output_type": "stream",
          "name": "stdout",
          "text": [
            "1\n"
          ]
        }
      ]
    },
    {
      "cell_type": "code",
      "source": [
        "# Otimizado para a questão\n",
        "def main():\n",
        "  N = int(input())\n",
        "  M = []\n",
        "  for _ in range(N): M.append(int(input()))\n",
        "  K = int(input())\n",
        "  visto = set()\n",
        "\n",
        "  for casa in M:\n",
        "    # K = casa - outro_casa\n",
        "    outra_casa = K - casa\n",
        "    if outra_casa in visto:\n",
        "      print(f'{outra_casa} {casa}')\n",
        "      break\n",
        "    visto.add(casa)\n",
        "\n",
        "if __name__ == '__main__':\n",
        "  main()"
      ],
      "metadata": {
        "colab": {
          "base_uri": "https://localhost:8080/"
        },
        "id": "ONqqqvAU8XgA",
        "outputId": "f846f0e0-2d84-46c8-c5fa-8c3e45b2b62d"
      },
      "execution_count": 35,
      "outputs": [
        {
          "output_type": "stream",
          "name": "stdout",
          "text": [
            "4\n",
            "1\n",
            "2\n",
            "3\n",
            "5\n",
            "8\n",
            "3 5\n"
          ]
        }
      ]
    },
    {
      "cell_type": "code",
      "source": [
        "main()"
      ],
      "metadata": {
        "colab": {
          "base_uri": "https://localhost:8080/"
        },
        "id": "MjkGshr9JxSO",
        "outputId": "2bff2d03-f5fa-47c2-e0be-dcbcd5e96612"
      },
      "execution_count": 36,
      "outputs": [
        {
          "output_type": "stream",
          "name": "stdout",
          "text": [
            "4\n",
            "1\n",
            "2\n",
            "3\n",
            "5\n",
            "5\n",
            "2 3\n"
          ]
        }
      ]
    }
  ]
}
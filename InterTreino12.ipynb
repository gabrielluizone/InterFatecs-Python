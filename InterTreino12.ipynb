{
  "nbformat": 4,
  "nbformat_minor": 0,
  "metadata": {
    "colab": {
      "provenance": [],
      "authorship_tag": "ABX9TyMr7qevvXrRVcgtV8A04vmN",
      "include_colab_link": true
    },
    "kernelspec": {
      "name": "python3",
      "display_name": "Python 3"
    },
    "language_info": {
      "name": "python"
    }
  },
  "cells": [
    {
      "cell_type": "markdown",
      "metadata": {
        "id": "view-in-github",
        "colab_type": "text"
      },
      "source": [
        "<a href=\"https://colab.research.google.com/github/gabrielluizone/import-time/blob/main/InterTreino12.ipynb\" target=\"_parent\"><img src=\"https://colab.research.google.com/assets/colab-badge.svg\" alt=\"Open In Colab\"/></a>"
      ]
    },
    {
      "cell_type": "markdown",
      "source": [
        "<div class=\"markdown-google-sans\">\n",
        "\n",
        "# **[Olimpíadas](https://neps.academy/br/exercise/243)**\n",
        "\n",
        "O Comitê Olímpico Internacional (COI) está visitando as cidades candidatas a sediar as Olimpíadas de 2016. O Rio de Janeiro é uma das cidades concorrentes, mas a competição é muito acirrada.\n",
        "\n",
        "O COI tem um conjunto de exigências que devem ser obedecidas pelas cidades candidatas, como boas arenas para os jogos (ginásios, campos de futebol, pistas de atletismo, parque aquático,...), bons alojamentos, um plano para o tráfego de veículos durante os jogos, etc. Durante sua visita ao Rio de Janeiro, o COI colocou ainda mais uma exigência: a demonstração da qualidade dos sistemas de informática. Especificamente, o COI quer que a organização local demonstre a sua capacidade em informática produzindo um programa que gere a classificação final dos países, considerando o número de medalhas recebidas pelos atletas de cada país.\n",
        "\n",
        "Sua tarefa é escrever um programa que, dada a informação dos países que receberam medalhas de ouro, prata e bronze em cada modalidade, gere a lista de classificação dos países na competição. Nesta tarefa, os países serão identificados por números inteiros. O melhor colocado deve ser o país que conseguiu o maior número de medalhas de ouro. Se houver empate entre países no número de medalhas de ouro, o melhor colocado entre esses é o país que conseguiu o maior número de medalhas de prata. Se houver empate também no número de medalhas de prata, o melhor colocado entre esses é o país que recebeu o maior número de medalhas de bronze. Se ainda assim houver empate entre dois países, o melhor classificado é o que tem o menor número de identificação.\n",
        "\n",
        "### Entrada\n",
        "\n",
        "A entrada contém um único conjunto de testes, que deve ser lido do dispositivo de entrada padrão (normalmente o teclado).\n",
        "\n",
        "A primeira linha da entrada contém dois números inteiros N e M, separados por um espaço em branco, indicando respectivamente o número de países e número de modalidades esportivas envolvidas na competição. Os países são identificados por números inteiros de 1 a N.\n",
        "\n",
        "Cada uma das M linhas seguintes contém três números inteiros O, P e B, separados por um espaço em branco, representando os países cujos atletas receberam respectivamente medalhas de ouro, prata e bronze. Assim, se uma das M linhas contém os números 3 2 1, significa que nessa modalidade a medalha de ouro foi ganha pelo país 3, a de prata pelo país 2 e a de bronze pelo país 1.\n",
        "\n",
        "### Saída\n",
        "\n",
        "Seu programa deve imprimir, na saída padrão, uma linha contendo N números, separados por um espaço em branco, representando os países na ordem decrescente de classificação (o primeiro número representa o país que é o primeiro colocado, o segundo número representa o país que é o segundo colocado, e assim por diante).\n",
        "\n",
        "### Restrições\n",
        "\n",
        "- 1 ≤ N ≤ 100\n",
        "- 1 ≤ M ≤ 100\n",
        "- 1 ≤ O ≤ N\n",
        "- 1 ≤ P ≤ N\n",
        "- 1 ≤ B ≤ N\n",
        "\n",
        "### Exemplos de Entrada\n",
        "\n",
        "```\n",
        "2 2\n",
        "2 1 2\n",
        "1 2 2\n",
        "```\n",
        "\n",
        "```\n",
        "4 3\n",
        "3 2 1\n",
        "4 3 1\n",
        "4 3 1\n",
        "```\n",
        "\n",
        "```\n",
        "3 3\n",
        "3 1 2\n",
        "2 3 1\n",
        "1 2 3\n",
        "```\n",
        "\n",
        "### Exemplos de Saída\n",
        "\n",
        "```\n",
        "2 1\n",
        "```\n",
        "\n",
        "```\n",
        "4 3 2 1\n",
        "```\n",
        "\n",
        "```\n",
        "1 2 3\n",
        "```"
      ],
      "metadata": {
        "id": "rUtgj6-ukacb"
      }
    },
    {
      "cell_type": "code",
      "source": [
        "def main():\n",
        "  N, M = map(int, input().split())\n",
        "  medalha = {i: [0, 0, 0] for i in range(1, N+1)}\n",
        "\n",
        "  for _ in range(M):\n",
        "      O, P, B = map(int, input().split())\n",
        "      medalha[O][0] += 1\n",
        "      medalha[P][1] += 1\n",
        "      medalha[B][2] += 1\n",
        "\n",
        "  print(* # Agr sim estou me sentindo um dev... ou quase\n",
        "      sorted(medalha.keys(),\n",
        "                key=lambda pais: (\n",
        "                    medalha[pais][0], # Prioridade para a medalha de ouru\n",
        "                    medalha[pais][1], # 2º prioridade pela de prata\n",
        "                    medalha[pais][2], # 3º prioridade pela de bronze\n",
        "                    -pais # Se todas as qtde medalhas forem iguas, usar a menor posição\n",
        "                    ),\n",
        "                reverse=True)\n",
        "  )\n",
        "\n",
        "if __name__ == '__main__':\n",
        "  main()"
      ],
      "metadata": {
        "id": "jyMfh4-ykaF1",
        "colab": {
          "base_uri": "https://localhost:8080/"
        },
        "outputId": "efaaf4d1-13ce-49a1-fe7d-5a84ae486a19"
      },
      "execution_count": 27,
      "outputs": [
        {
          "output_type": "stream",
          "name": "stdout",
          "text": [
            "2 2\n",
            "2 1 2\n",
            "1 2 2\n",
            "2 1\n"
          ]
        }
      ]
    },
    {
      "cell_type": "code",
      "source": [
        "main()"
      ],
      "metadata": {
        "colab": {
          "base_uri": "https://localhost:8080/"
        },
        "id": "LrkUZqt_nTXZ",
        "outputId": "df9e0a12-288d-4bba-e989-96a005981eb4"
      },
      "execution_count": 28,
      "outputs": [
        {
          "output_type": "stream",
          "name": "stdout",
          "text": [
            "4 3\n",
            "3 2 1\n",
            "4 3 1\n",
            "4 3 1\n",
            "4 3 2 1\n"
          ]
        }
      ]
    },
    {
      "cell_type": "code",
      "source": [
        "main()"
      ],
      "metadata": {
        "colab": {
          "base_uri": "https://localhost:8080/"
        },
        "id": "FxtTO8jonFzp",
        "outputId": "e27fa349-0578-4223-b935-726697a48194"
      },
      "execution_count": 29,
      "outputs": [
        {
          "output_type": "stream",
          "name": "stdout",
          "text": [
            "3 3\n",
            "3 1 2\n",
            "2 3 1\n",
            "1 2 3\n",
            "1 2 3\n"
          ]
        }
      ]
    },
    {
      "cell_type": "code",
      "source": [],
      "metadata": {
        "id": "dZ4-IdSnsjTz"
      },
      "execution_count": null,
      "outputs": []
    }
  ]
}
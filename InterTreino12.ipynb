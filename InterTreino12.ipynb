{
  "nbformat": 4,
  "nbformat_minor": 0,
  "metadata": {
    "colab": {
      "provenance": [],
      "authorship_tag": "ABX9TyPY+7mJW8gGEjNd6aQastSx",
      "include_colab_link": true
    },
    "kernelspec": {
      "name": "python3",
      "display_name": "Python 3"
    },
    "language_info": {
      "name": "python"
    }
  },
  "cells": [
    {
      "cell_type": "markdown",
      "metadata": {
        "id": "view-in-github",
        "colab_type": "text"
      },
      "source": [
        "<a href=\"https://colab.research.google.com/github/gabrielluizone/import-time/blob/main/InterTreino12.ipynb\" target=\"_parent\"><img src=\"https://colab.research.google.com/assets/colab-badge.svg\" alt=\"Open In Colab\"/></a>"
      ]
    },
    {
      "cell_type": "markdown",
      "source": [
        "<div class=\"markdown-google-sans\">\n",
        "\n",
        "# **[Botas Trocadas](https://neps.academy/br/exercise/19)**\n",
        "\n",
        "A divisão de Suprimentos de Botas e Calçados do Exército comprou um grande número de pares de botas de vários tamanhos para seus soldados. No entanto, por uma falha de empacotamento da fábrica contratada, nem todas as caixas entregues continham um par de botas correto, com duas botas do mesmo tamanho, uma para cada pé. O sargento mandou que os recrutas retirassem todas as botas de todas as caixas para reembalá-las, desta vez corretamente.\n",
        "\n",
        "Quando o sargento descobriu que você sabia programar, ele solicitou com a gentileza habitual que você escrevesse um programa que, dada a lista contendo a descrição de cada bota entregue, determina quantos pares corretos de botas poderão ser formados no total.\n",
        "\n",
        "### Entrada\n",
        "A primeira linha da entrada contém um inteiro $N$ indicando o número de botas individuais entregues. Cada uma das $N$ linhas seguintes descreve uma bota, contendo um número inteiro $M$ e uma letra $L$, separados por um espaço em branco. $M$ indica o número do tamanho da bota e $L$ indica o pé da bota: $L$ = $D$ indica que a bota é para o pé direito, $L$ = $E$ indica que a bota é para o pé esquerdo.\n",
        "\n",
        "### Saída\n",
        "Seu programa deve imprimir uma única linha contendo um único número inteiro indicando o número total de pares corretos de botas que podem ser formados.\n",
        "\n",
        "### Restrições\n",
        "- $2$ $\\leq$ $N$ $\\leq$ $10^4$\n",
        "- $N$ é par\n",
        "- $30$ $\\leq$ $M$ $\\leq$ $60$\n",
        "- $L$ é o caractere $D$ ou o caractere $E$\n",
        "\n",
        "#### Exemplos de Entrada\n",
        "```\n",
        "4\n",
        "40 D\n",
        "41 E\n",
        "41 D\n",
        "40 E\n",
        "```\n",
        "\n",
        "```\n",
        "6\n",
        "38 E\n",
        "39 E\n",
        "40 D\n",
        "38 D\n",
        "40 D\n",
        "37 E\n",
        "```\n",
        "\n",
        "#### Exemplos de Saída\n",
        "```\n",
        "2\n",
        "```\n",
        "\n",
        "```\n",
        "1\n",
        "```"
      ],
      "metadata": {
        "id": "rUtgj6-ukacb"
      }
    },
    {
      "cell_type": "code",
      "source": [
        "def main():\n",
        "  N = int(input())\n",
        "  M = []\n",
        "  for i in range(N): M.append( input() )\n",
        "  pares = 0\n",
        "\n",
        "  while M: # Finalmente usando While\n",
        "    if M[0][-1:] == 'E':\n",
        "      if f'{(M[0].split()[0])} D' in M[1:]:\n",
        "        M.pop(M.index(f'{(M[0].split()[0])} D'))\n",
        "        M.pop(0)\n",
        "        pares += 1\n",
        "      else: M.pop(0)\n",
        "\n",
        "    else:\n",
        "      if f'{(M[0].split()[0])} E' in M[1:]:\n",
        "        M.pop(M.index(f'{(M[0].split()[0])} E'))\n",
        "        M.pop(0)\n",
        "        pares += 1\n",
        "      else: M.pop(0)\n",
        "\n",
        "  print(pares)\n",
        "\n",
        "if __name__ == '__main__':\n",
        "  main()"
      ],
      "metadata": {
        "colab": {
          "base_uri": "https://localhost:8080/"
        },
        "id": "ONqqqvAU8XgA",
        "outputId": "0e20f5a4-628f-468c-bd55-b964f1578110"
      },
      "execution_count": 121,
      "outputs": [
        {
          "output_type": "stream",
          "name": "stdout",
          "text": [
            "4\n",
            "40 D\n",
            "41 E\n",
            "41 D\n",
            "40 E\n",
            "2\n"
          ]
        }
      ]
    },
    {
      "cell_type": "code",
      "source": [
        "main()"
      ],
      "metadata": {
        "colab": {
          "base_uri": "https://localhost:8080/"
        },
        "id": "OU2DtZh46XJI",
        "outputId": "8c475f0b-7cd4-49bb-85e0-889f0289b978"
      },
      "execution_count": 122,
      "outputs": [
        {
          "output_type": "stream",
          "name": "stdout",
          "text": [
            "6\n",
            "38 E\n",
            "39 E\n",
            "40 D\n",
            "38 D\n",
            "40 D\n",
            "37 E\n",
            "1\n"
          ]
        }
      ]
    }
  ]
}
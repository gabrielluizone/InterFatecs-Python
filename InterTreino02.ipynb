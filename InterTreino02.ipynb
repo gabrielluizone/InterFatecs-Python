{
  "nbformat": 4,
  "nbformat_minor": 0,
  "metadata": {
    "colab": {
      "provenance": [],
      "authorship_tag": "ABX9TyO8MiKlAN1FMCHok4AzNVqO",
      "include_colab_link": true
    },
    "kernelspec": {
      "name": "python3",
      "display_name": "Python 3"
    },
    "language_info": {
      "name": "python"
    }
  },
  "cells": [
    {
      "cell_type": "markdown",
      "metadata": {
        "id": "view-in-github",
        "colab_type": "text"
      },
      "source": [
        "<a href=\"https://colab.research.google.com/github/gabrielluizone/import-time/blob/main/InterTreino02.ipynb\" target=\"_parent\"><img src=\"https://colab.research.google.com/assets/colab-badge.svg\" alt=\"Open In Colab\"/></a>"
      ]
    },
    {
      "cell_type": "markdown",
      "source": [
        "<div class=\"markdown-google-sans\">\n",
        "\n",
        "# **Lampadas**\n",
        "</div>\n",
        "\n",
        "Você está de volta em seu hotel na Tailândia depois de um dia de mergulhos. O seu quarto tem duas lâmpadas. Vamos chamá-las de **A** e **B**. No hotel há dois interruptores, que chamaremos de $ I_1 $ e $ I_2 $. Ao apertar $ I_1 $, a lâmpada **A** acende se estiver apagada, e apaga se estiver acesa. Se apertar $ I_2 $, cada uma das lâmpadas **A** e **B** troca de estado: se estiver apagada, fica acesa e se estiver acesa apaga.\n",
        "\n",
        "As lâmpadas inicialmente estão ambas apagadas. Seu amigo resolveu bolar um desafio para você. Ele irá apertar os interruptores em uma certa sequência, e gostaria que você respondesse o estado final das lâmpadas **A** e **B**.\n",
        "\n",
        "### Entrada\n",
        "\n",
        "A primeira linha contém um número $ N $ que representa quantas vezes seu amigo irá apertar algum interruptor. Na linha seguinte seguirão $ N $ números, que pode ser 1, se o interruptor $ I_1 $ foi apertado, ou 2, se o interruptor $ I_2 $ foi apertado.\n",
        "\n",
        "### Saída\n",
        "\n",
        "Seu programa deve imprimir dois valores, em linhas separadas. Na primeira linha, imprima 1 se a lâmpada **A** estiver acesa no final das operações e 0 caso contrário. Na segunda linha, imprima 1 se a lâmpada **B** estiver acesa no final das operações e 0 caso contrário.\n",
        "\n",
        "### Restrições\n",
        "\n",
        "$ 2 \\leq N \\leq 10^5 $\n",
        "\n",
        "### Exemplos de Entrada\n",
        "\n",
        "```\n",
        "3\n",
        "1 2 2\n",
        "```\n",
        "\n",
        "```\n",
        "4\n",
        "2 1 2 2\n",
        "```\n",
        "\n",
        "### Exemplos de Saída\n",
        "\n",
        "```\n",
        "1\n",
        "0\n",
        "```\n",
        "\n",
        "```\n",
        "0\n",
        "1\n",
        "```"
      ],
      "metadata": {
        "id": "stS1_04iDoCz"
      }
    },
    {
      "cell_type": "code",
      "execution_count": 14,
      "metadata": {
        "colab": {
          "base_uri": "https://localhost:8080/"
        },
        "id": "QuUYQYXkDi05",
        "outputId": "9f1c62c9-141e-492f-df15-5a179a6725b3"
      },
      "outputs": [
        {
          "output_type": "stream",
          "name": "stdout",
          "text": [
            "6\n",
            "1 2 2 1 2 2\n",
            "0\n",
            "0\n"
          ]
        }
      ],
      "source": [
        "def main():\n",
        "# Restrição\n",
        "  def N_rest(N):\n",
        "    N = int(N)\n",
        "    while True:\n",
        "      try:\n",
        "        if 2 <= N <= 10**5: return N\n",
        "        else: print('2 ≤ N ≤ 10^5')\n",
        "      except ValueError: print('Numero natural')\n",
        "\n",
        "  N = N_rest(input())\n",
        "  seq = [int(num) for num in input().split(' ')]\n",
        "\n",
        "  A, B = False, False\n",
        "\n",
        "  for bit in range(N):\n",
        "    if seq[bit] == 1:\n",
        "      A = not A\n",
        "    if seq[bit] == 2:\n",
        "      A, B = not A, not B\n",
        "    else:\n",
        "      A, B = A, B\n",
        "\n",
        "\n",
        "  print(f'{int(A)}\\n{int(B)}')\n",
        "\n",
        "if __name__ == \"__main__\":\n",
        "    main()"
      ]
    }
  ]
}
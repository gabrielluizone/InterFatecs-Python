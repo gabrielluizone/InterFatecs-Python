{
  "nbformat": 4,
  "nbformat_minor": 0,
  "metadata": {
    "colab": {
      "provenance": [],
      "authorship_tag": "ABX9TyNuOD/3SlXNsJOO4qGO/c3/",
      "include_colab_link": true
    },
    "kernelspec": {
      "name": "python3",
      "display_name": "Python 3"
    },
    "language_info": {
      "name": "python"
    }
  },
  "cells": [
    {
      "cell_type": "markdown",
      "metadata": {
        "id": "view-in-github",
        "colab_type": "text"
      },
      "source": [
        "<a href=\"https://colab.research.google.com/github/gabrielluizone/import-time/blob/main/InterTreino04.ipynb\" target=\"_parent\"><img src=\"https://colab.research.google.com/assets/colab-badge.svg\" alt=\"Open In Colab\"/></a>"
      ]
    },
    {
      "cell_type": "markdown",
      "source": [
        "<div class=\"markdown-google-sans\">\n",
        "\n",
        "# **Fila (OBI2014)**\n",
        "</div>\n",
        "\n",
        "Com a proximidade da Copa do Mundo, o fluxo de pessoas nas filas para compra de ingressos aumentou consideravelmente. Como as filas estão cada vez maiores, pessoas menos pacientes tendem a desistir da compra de ingressos e acabam deixando as filas, liberando assim vaga para outras pessoas. Quando uma pessoa deixa a fila, todas as pessoas que estavam atrás dela dão um passo a frente, sendo assim nunca existe um espaço vago entre duas pessoas. A fila inicialmente contém N pessoas, cada uma com um identificador diferente. Joãozinho sabe o estado inicial dela e os identificadores em ordem das pessoas que deixaram a fila. Sabendo que após o estado inicial nenhuma pessoa entrou mais na fila, Joãozinho deseja saber o estado final da fila.\n",
        "\n",
        "### Entrada\n",
        "\n",
        "A primeira linha contém um inteiro N representando a quantidade de pessoas inicialmente na fila. A segunda linha contém N inteiros representando os identificadores das pessoas na fila. O primeiro identificador corresponde ao identificador da primeira pessoa na fila. É garantido que duas pessoas diferentes não possuem o mesmo identificador. A terceira linha contém um inteiro M representando a quantidade de pessoas que deixaram a fila. A quarta linha contém M inteiros representando os identificadores das pessoas que deixaram a fila, na ordem em que elas saíram. É garantido que um mesmo identificador não aparece duas vezes nessa lista.\n",
        "\n",
        "### Saída\n",
        "\n",
        "Seu programa deve imprimir uma linha contendo N - M inteiros com os identificadores das pessoas que permaneceram na fila, em ordem de chegada.\n",
        "\n",
        "### Restrições\n",
        "\n",
        "- 1 ≤ N ≤ 50000\n",
        "- 1 ≤ M ≤ 50000\n",
        "- M < N\n",
        "- Cada identificador está entre 1 e 100000\n",
        "\n",
        "### Exemplos de Entrada\n",
        "\n",
        "```\n",
        "8\n",
        "5 100 9 81 70 33 2 1000\n",
        "3\n",
        "9 33 5\n",
        "```\n",
        "\n",
        "```\n",
        "4\n",
        "10 9 6 3\n",
        "1\n",
        "3\n",
        "```\n",
        "\n",
        "### Exemplos de Saída\n",
        "\n",
        "```\n",
        "100 81 70 2 1000\n",
        "```\n",
        "\n",
        "```\n",
        "10 9 6\n",
        "```"
      ],
      "metadata": {
        "id": "0HoDZ2sgdeOv"
      }
    },
    {
      "cell_type": "code",
      "execution_count": 20,
      "metadata": {
        "colab": {
          "base_uri": "https://localhost:8080/"
        },
        "id": "BEHGqFvEcTdw",
        "outputId": "1a97f665-cd3d-49f5-bb79-8f3dd27ed92e"
      },
      "outputs": [
        {
          "output_type": "stream",
          "name": "stdout",
          "text": [
            "8\n",
            "5 100 9 81 70 33 2 1000\n",
            "3\n",
            "9 33 5\n",
            "100 81 70 2 1000\n"
          ]
        }
      ],
      "source": [
        "# Simplificando o algoritmo depois de construido\n",
        "def main():\n",
        "  N_qu, queue, N_gu, giveup = int(input()), input().split(' '), int(input()), input().split(' ')\n",
        "  print(' '.join([user for user in queue if user not in giveup]))\n",
        "\n",
        "main()"
      ]
    },
    {
      "cell_type": "code",
      "source": [
        "def main():\n",
        "  # Estado inicial\n",
        "  N_qu = int(input())\n",
        "  queue = input().split(' ')\n",
        "  # Desistiram\n",
        "  N_gu = int(input())\n",
        "  giveup = input().split(' ')\n",
        "\n",
        "  for user in giveup:\n",
        "    queue.remove(user)\n",
        "  print(' '.join(queue))"
      ],
      "metadata": {
        "id": "ozwQzQpWhAEk"
      },
      "execution_count": null,
      "outputs": []
    },
    {
      "cell_type": "code",
      "source": [
        "if __name__ == '__main__':\n",
        "  main()"
      ],
      "metadata": {
        "colab": {
          "base_uri": "https://localhost:8080/"
        },
        "id": "54RCCncNgX7Y",
        "outputId": "405d0d95-3a96-46df-f522-84f809246b40"
      },
      "execution_count": 16,
      "outputs": [
        {
          "output_type": "stream",
          "name": "stdout",
          "text": [
            "8\n",
            "5 100 9 81 70 33 2 1000\n",
            "3\n",
            "9 33 5\n",
            "100 81 70 2 1000\n"
          ]
        }
      ]
    },
    {
      "cell_type": "code",
      "source": [
        "main()"
      ],
      "metadata": {
        "colab": {
          "base_uri": "https://localhost:8080/"
        },
        "id": "kZKdSyJogItK",
        "outputId": "cb591f9d-691d-41d3-c7b1-9171e1a3f566"
      },
      "execution_count": 17,
      "outputs": [
        {
          "output_type": "stream",
          "name": "stdout",
          "text": [
            "4\n",
            "10 9 6 3\n",
            "1\n",
            "3\n",
            "10 9 6\n"
          ]
        }
      ]
    },
    {
      "cell_type": "code",
      "source": [
        "a = ['a', 'b', 'c', 'd']\n",
        "\n",
        "a.remove('a')\n",
        "\n",
        "a"
      ],
      "metadata": {
        "colab": {
          "base_uri": "https://localhost:8080/"
        },
        "id": "7nM-81rBfEbd",
        "outputId": "1448b989-99ef-4de0-aeb8-c43e3bfa69a9"
      },
      "execution_count": 12,
      "outputs": [
        {
          "output_type": "execute_result",
          "data": {
            "text/plain": [
              "['b', 'c', 'd']"
            ]
          },
          "metadata": {},
          "execution_count": 12
        }
      ]
    },
    {
      "cell_type": "code",
      "source": [
        "list(map(str, [1, 2, 3, 4]))"
      ],
      "metadata": {
        "colab": {
          "base_uri": "https://localhost:8080/"
        },
        "id": "2iPXbxBZfs2x",
        "outputId": "7a6c2360-6bcd-48db-8314-8da13db07e0f"
      },
      "execution_count": 5,
      "outputs": [
        {
          "output_type": "execute_result",
          "data": {
            "text/plain": [
              "['1', '2', '3', '4']"
            ]
          },
          "metadata": {},
          "execution_count": 5
        }
      ]
    }
  ]
}
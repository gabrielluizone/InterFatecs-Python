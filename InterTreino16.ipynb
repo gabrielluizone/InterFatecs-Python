{
  "nbformat": 4,
  "nbformat_minor": 0,
  "metadata": {
    "colab": {
      "provenance": [],
      "authorship_tag": "ABX9TyOki0xBgfcqGnkeYkgH6l5r",
      "include_colab_link": true
    },
    "kernelspec": {
      "name": "python3",
      "display_name": "Python 3"
    },
    "language_info": {
      "name": "python"
    }
  },
  "cells": [
    {
      "cell_type": "markdown",
      "metadata": {
        "id": "view-in-github",
        "colab_type": "text"
      },
      "source": [
        "<a href=\"https://colab.research.google.com/github/gabrielluizone/InterFatecs-Python/blob/main/InterTreino16.ipynb\" target=\"_parent\"><img src=\"https://colab.research.google.com/assets/colab-badge.svg\" alt=\"Open In Colab\"/></a>"
      ]
    },
    {
      "cell_type": "markdown",
      "source": [
        "<div class=\"markdown-google-sans\">\n",
        "\n",
        "# **[Sanduíche](https://neps.academy/br/exercise/60)**\n",
        "\n",
        "Você está na Seletiva para a IOI e depois de um dia cansativo de provas, chegou a hora do jantar. Hoje, trouxeram um sanduíche muito longo cortado em N pedaços de diversos tamanhos diferentes. Você gostaria de comer uma quantidade total de sanduíche de comprimento $D$, porém há uma regra: para evitar bagunça, você só pode ou pegar uma sequência contínua de pedaços, ou pegar pedaços das extremidades. Você sabe a sequência $C_1$, $C_2$, ..., $C_N$ dos comprimentos dos pedaços na ordem em que estão posicionados no sanduíche. Agora, para otimizar o seu jantar, quer fazer um programa que com esses dados responda de quantas formas você pode escolher os pedaços do sanduíche que vai comer. Em outras palavras, deve contar quantos pares $(i,j)$, $1 \\leq i \\leq j \\leq N$, existem tais que o somatório $C_i$ + $C_{i+1}$ + ... + $C_j$ seja igual a $D$ e quantos pares $(i,j)$, $1 \\leq i < j \\leq N$, existem tais que o somatório $C_1$ + $C_2$ + ... + $C_i$ + $C_j$ + $C_{j+1}$ + ... + $C_N$ seja igual a $D$.\n",
        "\n",
        "#### Entrada\n",
        "\n",
        "A primeira linha contém dois inteiros $N$ e $D$, representando respectivamente o número de pedaços e a quantidade de sanduíche que você quer comer. A segunda linha contém $N$ inteiros $C_1$, $C_2$,...,$C_N$, onde $C_i$​ é o tamanho do $i$-ésimo pedaço\n",
        "\n",
        "### Saída\n",
        "\n",
        "Seu programa deve produzir uma única linha, contendo um único inteiro, o número de maneiras de comer pedaços de sanduíche com soma $D$.\n",
        "\n",
        "### Restrições\n",
        "\n",
        "- $2$ $\\leq$ $N$ $\\leq$ $10^6$\n",
        "- $2$ $\\leq$ $D$ $\\leq$ $10^9$\n",
        "- $1$ $\\leq$ $C_i$ $\\leq$ $10^3$\n",
        "\n",
        "\n",
        "## Exemplos de Entrada\n",
        "\n",
        "```\n",
        "5 10  \n",
        "1 2 3 4 3\n",
        "```\n",
        "\n",
        "```\n",
        "5 5  \n",
        "1 1 1 1 1\n",
        "```\n",
        "\n",
        "```\n",
        "9 618  \n",
        "665 658 248 282 428 562 741 290 457\n",
        "```\n",
        "\n",
        "## Exemplos de Saída\n",
        "\n",
        "\n",
        "```\n",
        "3\n",
        "```\n",
        "\n",
        "```\n",
        "5\n",
        "```\n",
        "\n",
        "```\n",
        "0\n",
        "```"
      ],
      "metadata": {
        "id": "rUtgj6-ukacb"
      }
    },
    {
      "cell_type": "code",
      "source": [
        "def main():\n",
        "  N, D = map(int, input().split())\n",
        "  sdcs = list(map(int, input().split()))\n",
        "\n",
        "  c = 0\n",
        "  for n in range(N):\n",
        "    for i in range(N):\n",
        "      if sum((sdcs[n-N:]+sdcs[:n])[:i+1]) == D:\n",
        "        c += 1\n",
        "\n",
        "  print(c)\n",
        "\n",
        "if __name__ == '__main__':\n",
        "  main()"
      ],
      "metadata": {
        "colab": {
          "base_uri": "https://localhost:8080/"
        },
        "id": "ONqqqvAU8XgA",
        "outputId": "58dffcfe-7a33-438a-d255-d5176f1205d6"
      },
      "execution_count": 95,
      "outputs": [
        {
          "output_type": "stream",
          "name": "stdout",
          "text": [
            "5 10\n",
            "1 2 3 4 3\n",
            "3\n"
          ]
        }
      ]
    },
    {
      "cell_type": "code",
      "source": [
        "if __name__ == '__main__':\n",
        "  main()"
      ],
      "metadata": {
        "colab": {
          "base_uri": "https://localhost:8080/"
        },
        "id": "cq4AUC579PNk",
        "outputId": "0fe48d25-017d-467b-8d28-1e323955f655"
      },
      "execution_count": 97,
      "outputs": [
        {
          "output_type": "stream",
          "name": "stdout",
          "text": [
            "5 5\n",
            "1 1 1 1 1\n",
            "5\n"
          ]
        }
      ]
    },
    {
      "cell_type": "code",
      "source": [
        "if __name__ == '__main__':\n",
        "  main()"
      ],
      "metadata": {
        "colab": {
          "base_uri": "https://localhost:8080/"
        },
        "id": "hAMWIRUw9lic",
        "outputId": "ba0b1a02-4142-40c2-b066-2f339bec3ca3"
      },
      "execution_count": 98,
      "outputs": [
        {
          "output_type": "stream",
          "name": "stdout",
          "text": [
            "9 618\n",
            "665 658 248 282 428 562 741 290 457\n",
            "0\n"
          ]
        }
      ]
    }
  ]
}
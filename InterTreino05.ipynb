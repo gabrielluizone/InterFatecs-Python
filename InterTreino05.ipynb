{
  "nbformat": 4,
  "nbformat_minor": 0,
  "metadata": {
    "colab": {
      "provenance": [],
      "authorship_tag": "ABX9TyMs0dvx2Rt3PuPvB4tgafCE",
      "include_colab_link": true
    },
    "kernelspec": {
      "name": "python3",
      "display_name": "Python 3"
    },
    "language_info": {
      "name": "python"
    }
  },
  "cells": [
    {
      "cell_type": "markdown",
      "metadata": {
        "id": "view-in-github",
        "colab_type": "text"
      },
      "source": [
        "<a href=\"https://colab.research.google.com/github/gabrielluizone/import-time/blob/main/InterTreino05.ipynb\" target=\"_parent\"><img src=\"https://colab.research.google.com/assets/colab-badge.svg\" alt=\"Open In Colab\"/></a>"
      ]
    },
    {
      "cell_type": "markdown",
      "source": [
        "<div class=\"markdown-google-sans\">\n",
        "\n",
        "# **Huaauhahhuahau**\n",
        "</div>\n"
      ],
      "metadata": {
        "id": "rUtgj6-ukacb"
      }
    },
    {
      "cell_type": "code",
      "source": [
        "def main():\n",
        "  train_S = ('hahaha', 'huaauhahhuahau')\n",
        "  train_N = ('riajkjdhhihhjak', 'huehuehue')\n",
        "\n",
        "  def indicator(train):\n",
        "    train, niart, ind = list(train), list(train), 0\n",
        "    niart.reverse()\n",
        "\n",
        "    N = len(train)\n",
        "    aeiou = list('aeiou')\n",
        "\n",
        "    if N == 0:\n",
        "      return 0\n",
        "    if N == 1:\n",
        "      if train[0] in aeiou: return 1\n",
        "      else: return 0\n",
        "\n",
        "    for word in range(N-1):\n",
        "      if (train[word] not in aeiou) and (train[word+1] in aeiou):\n",
        "        ind += 1\n",
        "      if (niart[word] in aeiou) and (niart[word+1] not in aeiou):\n",
        "        ind += 1\n",
        "    return (ind/(N))\n",
        "\n",
        "  S1, S2 = indicator(train_S[0]), indicator(train_S[1])\n",
        "  N1, N2 = indicator(train_N[0]), indicator(train_N[1])\n",
        "\n",
        "  lim = (sum([S1, S2, N1, N2])) / 4\n",
        "\n",
        "  def restricao():\n",
        "    while True:\n",
        "      Huaauhahhuahau = input()\n",
        "      try:\n",
        "        if len(list(Huaauhahhuahau)) < 50: return Huaauhahhuahau\n",
        "        else: print('input ≤ 50')\n",
        "      except ValueError: print(':(')\n",
        "\n",
        "  score = indicator(\n",
        "      restricao()\n",
        "  )\n",
        "\n",
        "  # Meu mini modelo :D\n",
        "  if (score >= lim): print('S')\n",
        "  else: print('N')"
      ],
      "metadata": {
        "id": "jyMfh4-ykaF1"
      },
      "execution_count": 79,
      "outputs": []
    },
    {
      "cell_type": "code",
      "source": [
        "if __name__ == '__main__':\n",
        "  main()"
      ],
      "metadata": {
        "colab": {
          "base_uri": "https://localhost:8080/"
        },
        "id": "u1a0zj8A4Oj1",
        "outputId": "a9b7569c-4426-4150-9476-108f00d9d09d"
      },
      "execution_count": 80,
      "outputs": [
        {
          "output_type": "stream",
          "name": "stdout",
          "text": [
            "hahaha\n",
            "S\n"
          ]
        }
      ]
    },
    {
      "cell_type": "code",
      "source": [
        "main()"
      ],
      "metadata": {
        "colab": {
          "base_uri": "https://localhost:8080/"
        },
        "id": "uF4pK_Wt9MYE",
        "outputId": "5ea6a0b3-ff13-486d-dc9e-7fba1853a48a"
      },
      "execution_count": 81,
      "outputs": [
        {
          "output_type": "stream",
          "name": "stdout",
          "text": [
            "riajkjdhhihhjak\n",
            "N\n"
          ]
        }
      ]
    },
    {
      "cell_type": "code",
      "source": [
        "main()"
      ],
      "metadata": {
        "colab": {
          "base_uri": "https://localhost:8080/"
        },
        "id": "EAAdD4IwKNXk",
        "outputId": "8f0ec4e3-3cf5-41ff-87b6-b80615d52f0f"
      },
      "execution_count": 82,
      "outputs": [
        {
          "output_type": "stream",
          "name": "stdout",
          "text": [
            "a\n",
            "S\n"
          ]
        }
      ]
    },
    {
      "cell_type": "code",
      "source": [
        "# Deverei corrigi isto em breve\n",
        "main()"
      ],
      "metadata": {
        "colab": {
          "base_uri": "https://localhost:8080/"
        },
        "id": "Ft8j8HE59Plz",
        "outputId": "79225698-e50b-4389-a174-238d69cd992f"
      },
      "execution_count": 83,
      "outputs": [
        {
          "output_type": "stream",
          "name": "stdout",
          "text": [
            "huaauhahhuahau\n",
            "N\n"
          ]
        }
      ]
    },
    {
      "cell_type": "code",
      "source": [
        "main()"
      ],
      "metadata": {
        "colab": {
          "base_uri": "https://localhost:8080/"
        },
        "id": "LSY66Bua9Xbl",
        "outputId": "f49fb05b-b543-4969-ef89-f000cd2a5aa5"
      },
      "execution_count": 84,
      "outputs": [
        {
          "output_type": "stream",
          "name": "stdout",
          "text": [
            "jhhahsjdhajdhsajhdasdjhaklsdha\n",
            "N\n"
          ]
        }
      ]
    }
  ]
}
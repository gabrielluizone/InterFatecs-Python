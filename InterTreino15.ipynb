{
  "nbformat": 4,
  "nbformat_minor": 0,
  "metadata": {
    "colab": {
      "provenance": [],
      "authorship_tag": "ABX9TyPsFi0ppCpVDlgIT+kMvj1q",
      "include_colab_link": true
    },
    "kernelspec": {
      "name": "python3",
      "display_name": "Python 3"
    },
    "language_info": {
      "name": "python"
    }
  },
  "cells": [
    {
      "cell_type": "markdown",
      "metadata": {
        "id": "view-in-github",
        "colab_type": "text"
      },
      "source": [
        "<a href=\"https://colab.research.google.com/github/gabrielluizone/InterFatecs-Python/blob/main/InterTreino15.ipynb\" target=\"_parent\"><img src=\"https://colab.research.google.com/assets/colab-badge.svg\" alt=\"Open In Colab\"/></a>"
      ]
    },
    {
      "cell_type": "markdown",
      "source": [
        "<div class=\"markdown-google-sans\">\n",
        "\n",
        "# **[Camisetas da Olimpíada](https://neps.academy/br/exercise/980)**\n",
        "\n",
        "A Olimpíada Municipal de Programação vai distribuir camisetas para os melhores colocados, e por isso solicitou que os premiados informassem o tamanho preferido da camiseta, entre os tamanhos pequeno e médio.\n",
        "\n",
        "A empresa que confeccionou as camisetas, por uma falha, pode ter se enganado na quantidade de camisetas para cada tamanho. Foram produzidas camisetas em número suficiente para todos os premiados, mas talvez não do tamanho preferido.\n",
        "\n",
        "Dadas a lista com os tamanhos preferidos pelos premiados e a quantidade de camisetas de cada tamanho produzidas pela empresa, escreva um programa para determinar se todos os premiados receberão camisetas do tamanho escolhido.\n",
        "\n",
        "## Entrada\n",
        "\n",
        "A primeira linha contém um inteiro $N$, o número de premiados. A segunda linha contém $N$ inteiros $T_i$, indicando os tamanhos solicitados pelos premiados, sendo que $T_i = 1$ representa o tamanho pequeno e $T_i = 2$ representa o tamanho médio. A terceira linha contém um inteiro $P$, o número de camisetas de tamanho pequeno produzidas. A quarta e última contém um inteiro $M$, o número de camisetas de tamanho médio produzidas.\n",
        "\n",
        "## Saída\n",
        "\n",
        "Seu programa deve produzir uma única linha, contendo um único caractere, que deve ser a letra maiúscula ‘S’ se todos os premiados serão atendidos com a camiseta do tamanho que escolheram, ou a letra maiúscula ‘N’ caso contrário\n",
        "\n",
        "## Restrições\n",
        "\n",
        "- $1 \\leq N \\leq 1000$\n",
        "- $0 \\leq P \\leq 1000$\n",
        "- $0 \\leq M \\leq 1000$\n",
        "- $N \\leq P + M$\n",
        "- $1 \\leq X_i \\leq 2$ para $1 \\leq i \\leq N$\n",
        "\n",
        "## Exemplos de Entrada\n",
        "\n",
        "```\n",
        "5\n",
        "1 1 2 1 2\n",
        "3\n",
        "2\n",
        "```\n",
        "\n",
        "```\n",
        "4\n",
        "2 2 2 2\n",
        "1\n",
        "3\n",
        "```\n",
        "\n",
        "```\n",
        "6\n",
        "1 1 1 2 1 1\n",
        "4\n",
        "4\n",
        "```\n",
        "\n",
        "## Exemplos de Saída\n",
        "\n",
        "```\n",
        "S\n",
        "```\n",
        "\n",
        "```\n",
        "N\n",
        "```\n",
        "\n",
        "```\n",
        "N\n",
        "```"
      ],
      "metadata": {
        "id": "rUtgj6-ukacb"
      }
    },
    {
      "cell_type": "code",
      "source": [
        "def main():\n",
        "  N = int(input())\n",
        "  camisetas = list(input())\n",
        "\n",
        "  P = int(input())\n",
        "  M = int(input())\n",
        "  if len([p for p in camisetas if p == '1']) == P: # 1 = P\n",
        "    print('S')\n",
        "  else: print('N')\n",
        "\n",
        "if __name__ == '__main__':\n",
        "  main()"
      ],
      "metadata": {
        "colab": {
          "base_uri": "https://localhost:8080/"
        },
        "id": "ONqqqvAU8XgA",
        "outputId": "eaa1259f-e281-4682-dde9-47c00de053b0"
      },
      "execution_count": 2,
      "outputs": [
        {
          "output_type": "stream",
          "name": "stdout",
          "text": [
            "5\n",
            "1 1 2 1 2\n",
            "3\n",
            "2\n",
            "S\n"
          ]
        }
      ]
    },
    {
      "cell_type": "code",
      "source": [
        "main()"
      ],
      "metadata": {
        "colab": {
          "base_uri": "https://localhost:8080/"
        },
        "id": "cq4AUC579PNk",
        "outputId": "59a91976-0750-411a-fa46-3b9ad9d6ea46"
      },
      "execution_count": 3,
      "outputs": [
        {
          "output_type": "stream",
          "name": "stdout",
          "text": [
            "4\n",
            "2 2 2 2\n",
            "1\n",
            "3\n",
            "N\n"
          ]
        }
      ]
    },
    {
      "cell_type": "code",
      "source": [
        "main()"
      ],
      "metadata": {
        "colab": {
          "base_uri": "https://localhost:8080/"
        },
        "id": "hAMWIRUw9lic",
        "outputId": "9768f428-8de9-42ef-a0ee-56edddf21afe"
      },
      "execution_count": 4,
      "outputs": [
        {
          "output_type": "stream",
          "name": "stdout",
          "text": [
            "6\n",
            "1 1 1 2 1 1\n",
            "4\n",
            "4\n",
            "N\n"
          ]
        }
      ]
    }
  ]
}
{
  "nbformat": 4,
  "nbformat_minor": 0,
  "metadata": {
    "colab": {
      "provenance": [],
      "authorship_tag": "ABX9TyPrb++LUG1XZSB4ayEEMWnd",
      "include_colab_link": true
    },
    "kernelspec": {
      "name": "python3",
      "display_name": "Python 3"
    },
    "language_info": {
      "name": "python"
    }
  },
  "cells": [
    {
      "cell_type": "markdown",
      "metadata": {
        "id": "view-in-github",
        "colab_type": "text"
      },
      "source": [
        "<a href=\"https://colab.research.google.com/github/gabrielluizone/import-time/blob/main/InterTreino07.ipynb\" target=\"_parent\"><img src=\"https://colab.research.google.com/assets/colab-badge.svg\" alt=\"Open In Colab\"/></a>"
      ]
    },
    {
      "cell_type": "markdown",
      "source": [
        "<div class=\"markdown-google-sans\">\n",
        "\n",
        "# **Mapa (OBI 2017)**\n",
        "\n",
        "Harry ganhou um mapa mágico no qual ele pode visualizar o trajeto realizado por seus amigos. Ele agora precisa de sua colaboração para, com a ajuda do mapa, determinar onde Hermione se encontra.\n",
        "\n",
        "O mapa tem $ L $ linhas e $ C $ colunas de caracteres, que podem ser ‘.’ (ponto), a letra ‘o’ (minúscula) ou a letra ‘H’ (maiúscula). A posição inicial de Hermione no mapa é indicada pela letra ‘o’, que aparece exatamente uma vez no mapa. A letra ‘H’ indica uma posição em que Hermione pode ter passado – o mapa é impreciso, e nem toda letra ‘H’ no mapa representa realmente uma posição pela qual Hermione passou. Mas todas as posições pelas quais Hermione passou são representadas pela letra ‘H’ no mapa.\n",
        "\n",
        "A partir da posição inicial de Hermione, Harry sabe determinar a posição atual de sua amiga, apesar da imprecisão do mapa, porque eles combinaram que Hermione somente se moveria de forma que seu movimento apareceria no mapa como estritamente horizontal ou estritamente vertical (nunca diagonal). Além disso, Hermione combinou que não se moveria de forma a deixar que Harry tivesse dúvidas sobre seu caminho (por exemplo, Hermione não passa duas vezes pela mesma posição). Considere o mapa abaixo, com 6 linhas e 7 colunas:\n",
        "\n",
        "![Mapa](https://api.neps.academy/image/1390.png)\n",
        "\n",
        "A posição inicial de Hermione no mapa é $ (5,3) $, e sua posição atual é $ (4,6) $. As posições marcadas em negrito (‘**H**’) são erros no mapa.\n",
        "\n",
        "Dado um mapa e a posição inicial de Hermione, você deve escrever um programa para determinar a posição atual de Hermione.\n",
        "\n",
        "### Entrada\n",
        "A primeira linha contém dois números inteiros $ L $ e $ C $, indicando respectivamente o número de linhas e o número de colunas. Cada uma das seguintes $ L $ linhas contém $ C $ caracteres.\n",
        "\n",
        "### Saída\n",
        "Seu programa deve produzir uma única linha na saída, contendo dois números inteiros: o número da linha e o número da coluna da posição atual de Hermione.\n",
        "\n",
        "### Restrições\n",
        "- $ 2 \\leq L \\leq 100 $\n",
        "- $ 2 \\leq C \\leq 100 $\n",
        "- Apenas os caracteres ‘.’, ‘o’ e ‘H’ aparecem no mapa.\n",
        "- A letra ‘o’ aparece exatamente uma vez no mapa.\n",
        "- A letra ‘H’ aparece ao menos uma vez no mapa.\n",
        "- O caminho de Hermione está totalmente contido no mapa.\n",
        "- Na posição da letra ‘o’ no mapa, há apenas uma letra ‘H’ como vizinho imediato na vertical ou horizontal.\n",
        "- Na posição atual de Hermione no mapa, há apenas uma letra ‘H’ como vizinho imediato na vertical ou horizontal.\n",
        "- Em cada uma das posições intermediárias do caminho de Hermione, há exatamente duas letras ‘H’ como vizinhas imediatas na vertical ou horizontal.\n",
        "\n",
        "### Exemplos de Entrada\n",
        "```\n",
        "3 4\n",
        "HHHH\n",
        "H...\n",
        "o.HH\n",
        "```\n",
        "\n",
        "### Exemplos de Saída\n",
        "```\n",
        "1 4\n",
        "```"
      ],
      "metadata": {
        "id": "rUtgj6-ukacb"
      }
    },
    {
      "cell_type": "code",
      "source": [
        "def main():\n",
        "  dim = list(map(int, input().split(' ')))\n",
        "  M = []\n",
        "  for L in range(dim[0]): M.append(list(input()))\n",
        "\n",
        "  # Identificando o Começo\n",
        "  for L in range(dim[0]):\n",
        "    for C in range(dim[1]):\n",
        "      if M[L][C] == 'o':\n",
        "        l, c = L, C\n",
        "\n",
        "  end = False\n",
        "  while not end:\n",
        "\n",
        "    # Cima\n",
        "    if (l-1 >= 0) and (M[l-1][c] == 'H'):\n",
        "      M[l][c] = '.'\n",
        "      l,c = l-1,c\n",
        "    # Baixo\n",
        "    elif (l+1 <= dim[0]-1) and (M[l+1][c] == 'H'):\n",
        "      M[l][c] = '.'\n",
        "      l,c = l+1,c\n",
        "    # Esquerda\n",
        "    elif (c-1 >= 0) and (M[l][c-1] == 'H'):\n",
        "      M[l][c] = '.'\n",
        "      l,c = l,c-1\n",
        "    # Direita\n",
        "    elif (c+1 <= dim[1]-1) and (M[l][c+1] == 'H'):\n",
        "      M[l][c] = '.'\n",
        "      l,c = l,c+1\n",
        "    else:\n",
        "      print(f'{l+1} {c+1}')\n",
        "      end = True\n",
        "\n",
        "if __name__ == '__main__':\n",
        "  main()"
      ],
      "metadata": {
        "id": "jyMfh4-ykaF1",
        "colab": {
          "base_uri": "https://localhost:8080/"
        },
        "outputId": "1ee401ed-373f-444d-d535-8c23fc9c2928"
      },
      "execution_count": 2,
      "outputs": [
        {
          "output_type": "stream",
          "name": "stdout",
          "text": [
            "3 4\n",
            "HHHH\n",
            "H...\n",
            "o.HH\n",
            "0 3\n"
          ]
        }
      ]
    }
  ]
}
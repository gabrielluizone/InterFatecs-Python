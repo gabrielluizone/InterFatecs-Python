{
  "nbformat": 4,
  "nbformat_minor": 0,
  "metadata": {
    "colab": {
      "provenance": [],
      "authorship_tag": "ABX9TyOm6e2hY17gHdNqWGuazJ9D",
      "include_colab_link": true
    },
    "kernelspec": {
      "name": "python3",
      "display_name": "Python 3"
    },
    "language_info": {
      "name": "python"
    }
  },
  "cells": [
    {
      "cell_type": "markdown",
      "metadata": {
        "id": "view-in-github",
        "colab_type": "text"
      },
      "source": [
        "<a href=\"https://colab.research.google.com/github/gabrielluizone/import-time/blob/main/InterTreino10.ipynb\" target=\"_parent\"><img src=\"https://colab.research.google.com/assets/colab-badge.svg\" alt=\"Open In Colab\"/></a>"
      ]
    },
    {
      "cell_type": "markdown",
      "source": [
        "<div class=\"markdown-google-sans\">\n",
        "\n",
        "# **[Fita Colorida](https://neps.academy/br/exercise/49)**\n",
        "\n",
        "Roberto tem um conjunto de lápis com 10 tons diferentes de uma mesma cor, numerados de 0 a 9. Numa fita quadriculada, alguns quadrados foram coloridos inicialmente com o tom 0.\n",
        "\n",
        "Roberto precisa determinar, para cada quadrado Q não colorido, qual é a distância dele para o quadrado mais próximo de tom 0. A distância entre dois quadrados é definida com o número mínimo de movimentos para a esquerda, ou para a direita, para ir de um quadrado para o outro. O quadrado Q, então, deve ser colorido com o tom cuja numeração corresponde à distância determinada. Se a distância for maior ou igual a 9, o quadrado deve ser colorido com o tom 9. Seu programa deve colorir e imprimir a fita quadriculada dada na entrada.\n",
        "\n",
        "## Entrada\n",
        "\n",
        "A primeira linha da entrada contém apenas um inteiro N, indicando o número de quadrados da fita. A segunda linha contém N números inteiros: “-1” se o quadrado não está colorido, e “0” se está colorido com o tom 0.\n",
        "\n",
        "## Saída\n",
        "\n",
        "Seu programa deve escrever na saída a fita totalmente colorida, de acordo com a regra definida acima.\n",
        "\n",
        "## Restrições\n",
        "\n",
        "- 3 ≤ N ≤ 10^4\n",
        "- Sempre existe pelo menos um “0” inicialmente na fita.\n",
        "\n",
        "### Exemplos de Entrada\n",
        "\n",
        "```\n",
        "8\n",
        "-1 -1 0 -1 -1 -1 0 -1\n",
        "```\n",
        "\n",
        "```\n",
        "13\n",
        "-1 0 -1 -1 -1 -1 -1 -1 -1 -1 0 -1 -1\n",
        "```\n",
        "\n",
        "```\n",
        "6\n",
        "0 -1 -1 -1 -1 -1\n",
        "```\n",
        "\n",
        "### Exemplos de Saída\n",
        "\n",
        "```\n",
        "2 1 0 1 2 1 0 1\n",
        "```\n",
        "\n",
        "```\n",
        "1 0 1 2 3 4 4 3 2 1 0 1 2\n",
        "```\n",
        "\n",
        "```\n",
        "0 1 2 3 4 5\n",
        "```"
      ],
      "metadata": {
        "id": "rUtgj6-ukacb"
      }
    },
    {
      "cell_type": "code",
      "source": [
        "def main():\n",
        "  N = int(input())\n",
        "  fita = list(map(int, input().split(' ')))\n",
        "  nw_fita = []\n",
        "\n",
        "  for i in range(N):\n",
        "    if fita[i] == 0:\n",
        "      temp = []\n",
        "      for j in range(N):\n",
        "        if abs(j-i) <= 9: temp.append(abs(j-i))\n",
        "        else: temp.append(9)\n",
        "      nw_fita.append(temp)\n",
        "\n",
        "  for i in range(len(nw_fita) - 1):\n",
        "    for j in range(N):\n",
        "      if (nw_fita[i+1][j] > nw_fita[i][j]) and (nw_fita[i+1][j] != 0):\n",
        "        nw_fita[i+1][j] = nw_fita[i][j]\n",
        "\n",
        "  print(' '.join(map(str, nw_fita[-1:][0])))\n",
        "\n",
        "if __name__ == '__main__':\n",
        "  main()"
      ],
      "metadata": {
        "id": "jyMfh4-ykaF1",
        "colab": {
          "base_uri": "https://localhost:8080/"
        },
        "outputId": "fad5f07c-6728-4ac9-f925-9e77a3067234"
      },
      "execution_count": 34,
      "outputs": [
        {
          "output_type": "stream",
          "name": "stdout",
          "text": [
            "13\n",
            "-1 0 -1 -1 -1 -1 -1 -1 -1 -1 0 -1 -1\n",
            "1 0 1 2 3 4 4 3 2 1 0 1 2\n"
          ]
        }
      ]
    },
    {
      "cell_type": "code",
      "source": [
        "main()"
      ],
      "metadata": {
        "colab": {
          "base_uri": "https://localhost:8080/"
        },
        "id": "FxtTO8jonFzp",
        "outputId": "4583ec1a-77a7-4b7b-e855-90926811f1a4"
      },
      "execution_count": 35,
      "outputs": [
        {
          "output_type": "stream",
          "name": "stdout",
          "text": [
            "8\n",
            "-1 -1 0 -1 -1 -1 0 -1\n",
            "2 1 0 1 2 1 0 1\n"
          ]
        }
      ]
    },
    {
      "cell_type": "code",
      "source": [
        "main()"
      ],
      "metadata": {
        "colab": {
          "base_uri": "https://localhost:8080/"
        },
        "id": "e9DRb57koFfH",
        "outputId": "f030591c-cd72-490a-971e-5e4970861b6e"
      },
      "execution_count": 36,
      "outputs": [
        {
          "output_type": "stream",
          "name": "stdout",
          "text": [
            "20\n",
            "-1 -1 -1 -1 -1 -1 -1 -1 -1 -1 -1 -1 0 -1 -1 -1 -1 0 -1 -1\n",
            "9 9 9 9 8 7 6 5 4 3 2 1 0 1 2 2 1 0 1 2\n"
          ]
        }
      ]
    },
    {
      "cell_type": "code",
      "source": [
        "main()"
      ],
      "metadata": {
        "colab": {
          "base_uri": "https://localhost:8080/"
        },
        "id": "Ao1Fgx5npqAH",
        "outputId": "07bfdb87-ed54-4cdb-d457-755913534b8a"
      },
      "execution_count": 37,
      "outputs": [
        {
          "output_type": "stream",
          "name": "stdout",
          "text": [
            "50\n",
            "0 0 -1 0 -1 0 -1 -1 -1 -1 -1 0 0 0 -1 -1 -1 -1 -1 0 0 -1 0 -1 0 -1 0 -1 0 0 0 -1 0 -1 -1 -1 -1 -1 -1 -1 -1 0 -1 -1 0 -1 -1 0 -1 -1 -1\n",
            "0 0 1 0 1 0 1 2 3 2 1 0 0 0 1 2 3 2 1 0 0 1 0 1 0 1 0 1 0 0 0 1 0 1 2 3 4 4 3 2 1 0 1 1 0 1 1 0 1 2\n"
          ]
        }
      ]
    }
  ]
}
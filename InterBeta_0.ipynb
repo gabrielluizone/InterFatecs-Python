{
  "nbformat": 4,
  "nbformat_minor": 0,
  "metadata": {
    "colab": {
      "provenance": [],
      "authorship_tag": "ABX9TyPy8NHqMdbGeTC2nl1Hh/R1",
      "include_colab_link": true
    },
    "kernelspec": {
      "name": "python3",
      "display_name": "Python 3"
    },
    "language_info": {
      "name": "python"
    }
  },
  "cells": [
    {
      "cell_type": "markdown",
      "metadata": {
        "id": "view-in-github",
        "colab_type": "text"
      },
      "source": [
        "<a href=\"https://colab.research.google.com/github/gabrielluizone/import-time/blob/main/InterBeta_0.ipynb\" target=\"_parent\"><img src=\"https://colab.research.google.com/assets/colab-badge.svg\" alt=\"Open In Colab\"/></a>"
      ]
    },
    {
      "cell_type": "markdown",
      "source": [
        "## Treino 0\n",
        "Na tranquila Blaittland University, existe uma antiga biblioteca cheia de raridades, incluindo uma estante repleta de livros sobre linguagens de programação. Todas as manhãs, esses livros são meticulosamente organizados em ordem alfabética, da esquerda para a direita. Nenhum dos livros possui títulos que começam com a mesma letra. Porém, os alunos, sempre correndo para cumprir os prazos das tarefas, escolhem os livros para ler e os colocam exatamente uma posição à esquerda de seu local original, mantendo uma aparência única de desordem na estante.\n",
        "\n",
        "Curiosamente, os estudantes de Análise e Desenvolvimento de Sistemas adotaram um hábito peculiar: se um livro for lido por mais de cinco pessoas durante um dia, elas não o leem novamente. Esta regra tácita, porém, nem sempre é respeitada pelos alunos de Sistemas de Banco de Dados. Outra peculiaridade que foi notada é que ninguém pega o livro localizado mais à esquerda para ler.\n",
        "\n",
        "No final das contas, Jeff, o bibliotecário, não só precisa calcular o número de vezes que livros foram escolhidos para leitura, mas também quer determinar se é possível ter certeza de que algum aluno de Sistemas de Banco de Dados leu um livro.\n",
        "\n",
        "### Input\n",
        "A primeira linha contém um único inteiro $N$ $(1 \\leq N \\leq 26)$, representando a quantidade de livros na estante. A segunda linha contém\n",
        "uma sequência de $N$ letras maiúsculas $(de A a Z)$, representando a ordem final dos livros na estante.\n",
        "\n",
        "### Output\n",
        "Se for possível afirmar (sem sombra de dúvida) que um aluno de Sistemas de Banco de Dados leu um livro, imprima \"Um aluno de Sistemas de Banco de Dados leu um livro\". Caso contrário, imprima um único número inteiro, representando o número de vezes que qualquer livro foi escolhido para ler. Lembre-se de incluir uma nova linha no final da sua saída.\n",
        "\n",
        "| Exemplo de Entrada | Exemplo de Saída |\n",
        "|--------------------|------------------|\n",
        "| 7 GCBADEF | A Database Systems student read a book. |\n",
        "| 12 DFGNMHRQSYVZ | 5 |\n"
      ],
      "metadata": {
        "id": "k-GlmB5mYfyW"
      }
    },
    {
      "cell_type": "code",
      "execution_count": 147,
      "metadata": {
        "colab": {
          "base_uri": "https://localhost:8080/",
          "height": 182
        },
        "id": "skym_DwnYIwp",
        "outputId": "c65b8247-26ef-4375-d9bb-a782927a5375"
      },
      "outputs": [
        {
          "output_type": "error",
          "ename": "ValueError",
          "evalue": "['B', -1] is not in list",
          "traceback": [
            "\u001b[0;31m---------------------------------------------------------------------------\u001b[0m",
            "\u001b[0;31mValueError\u001b[0m                                Traceback (most recent call last)",
            "\u001b[0;32m<ipython-input-147-4d5670591672>\u001b[0m in \u001b[0;36m<cell line: 22>\u001b[0;34m()\u001b[0m\n\u001b[1;32m     31\u001b[0m     \u001b[0;32melse\u001b[0m\u001b[0;34m:\u001b[0m\u001b[0;34m\u001b[0m\u001b[0;34m\u001b[0m\u001b[0m\n\u001b[1;32m     32\u001b[0m       \u001b[0mlista1\u001b[0m\u001b[0;34m.\u001b[0m\u001b[0mpop\u001b[0m\u001b[0;34m(\u001b[0m\u001b[0mlista1\u001b[0m\u001b[0;34m.\u001b[0m\u001b[0mindex\u001b[0m\u001b[0;34m(\u001b[0m\u001b[0mitem\u001b[0m\u001b[0;34m)\u001b[0m\u001b[0;34m)\u001b[0m\u001b[0;34m\u001b[0m\u001b[0;34m\u001b[0m\u001b[0m\n\u001b[0;32m---> 33\u001b[0;31m       \u001b[0mlista1\u001b[0m\u001b[0;34m.\u001b[0m\u001b[0minsert\u001b[0m\u001b[0;34m(\u001b[0m\u001b[0mlista1\u001b[0m\u001b[0;34m.\u001b[0m\u001b[0mindex\u001b[0m\u001b[0;34m(\u001b[0m\u001b[0mitem\u001b[0m\u001b[0;34m)\u001b[0m\u001b[0;34m,\u001b[0m \u001b[0;34m[\u001b[0m\u001b[0mitem\u001b[0m\u001b[0;34m[\u001b[0m\u001b[0;36m0\u001b[0m\u001b[0;34m]\u001b[0m\u001b[0;34m,\u001b[0m \u001b[0mitem\u001b[0m\u001b[0;34m[\u001b[0m\u001b[0;36m1\u001b[0m\u001b[0;34m]\u001b[0m\u001b[0;34m+\u001b[0m\u001b[0;36m1\u001b[0m\u001b[0;34m]\u001b[0m\u001b[0;34m)\u001b[0m\u001b[0;34m\u001b[0m\u001b[0;34m\u001b[0m\u001b[0m\n\u001b[0m",
            "\u001b[0;31mValueError\u001b[0m: ['B', -1] is not in list"
          ]
        }
      ],
      "source": [
        "import random\n",
        "\n",
        "#qntd = int(input('Quantidade de Livros: '))\n",
        "libs = 'GCBADEF'#input('Ordem Final dos Livros: ')\n",
        "final = [book for book in str(libs)]\n",
        "qntd = len(final)\n",
        "prime = sorted(final)\n",
        "max = 5\n",
        "\n",
        "final_points = {indice: pontuacao for pontuacao, indice in enumerate(final)}\n",
        "prime_points = {indice: pontuacao for pontuacao, indice in enumerate(prime)}\n",
        "\n",
        "# Pontuaação final da ordem desde sua origem\n",
        "for indice in final_points.keys():\n",
        "  final_points[indice], prime_points[indice] = prime_points[indice] - final_points[indice], prime_points[indice] - final_points[indice]\n",
        "\n",
        "lista1, lista2 = [], []\n",
        "for item in prime_points.items():\n",
        "  lista1.append(list(item))\n",
        "  lista2.append([list(item)[0], 0])\n",
        "\n",
        "for item1, item2 in zip(lista1, lista2):\n",
        "  idx1 = lista1.index(item1)\n",
        "  lista1.pop(idx1)\n",
        "  lista1.insert(-1*item1[1], item1)\n",
        "\n",
        "  for item in lista1[:item1[1]]:\n",
        "    if -1*item1[1] <= 0:\n",
        "      lista1.pop(lista1.index(item))\n",
        "      lista1.insert(lista1.index(item), [item[0], item[1]-1])\n",
        "    else:\n",
        "      lista1.pop(lista1.index(item))\n",
        "      lista1.insert(lista1.index(item), [item[0], item[1]+1])"
      ]
    },
    {
      "cell_type": "code",
      "source": [
        "print(lista1)\n",
        "lista1.insert(-3, ['AA', 55])\n",
        "print(lista1)"
      ],
      "metadata": {
        "colab": {
          "base_uri": "https://localhost:8080/"
        },
        "id": "o4ULy_p1AeVA",
        "outputId": "b5006c84-ac0a-4cc7-93f7-0dc2a690096b"
      },
      "execution_count": 146,
      "outputs": [
        {
          "output_type": "stream",
          "name": "stdout",
          "text": [
            "[['A', -3], ['B', -1], ['C', 1], ['D', -1], ['E', -1], ['F', -1], ['G', 6]]\n",
            "[['A', -3], ['B', -1], ['C', 1], ['D', -1], ['AA', 55], ['E', -1], ['F', -1], ['G', 6]]\n"
          ]
        }
      ]
    },
    {
      "cell_type": "code",
      "source": [
        "lista1"
      ],
      "metadata": {
        "colab": {
          "base_uri": "https://localhost:8080/"
        },
        "id": "pKnowW5cdolf",
        "outputId": "0390e511-2765-4b6f-aa49-e16a21d95586"
      },
      "execution_count": 141,
      "outputs": [
        {
          "output_type": "execute_result",
          "data": {
            "text/plain": [
              "[['C', 1], ['D', -1], ['A', -3], ['E', -1], ['F', -1], ['G', 6]]"
            ]
          },
          "metadata": {},
          "execution_count": 141
        }
      ]
    }
  ]
}
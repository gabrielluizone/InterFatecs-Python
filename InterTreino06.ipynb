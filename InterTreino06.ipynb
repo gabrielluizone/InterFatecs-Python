{
  "nbformat": 4,
  "nbformat_minor": 0,
  "metadata": {
    "colab": {
      "provenance": [],
      "authorship_tag": "ABX9TyPqQ94rj+lQipgqPMunSZAx",
      "include_colab_link": true
    },
    "kernelspec": {
      "name": "python3",
      "display_name": "Python 3"
    },
    "language_info": {
      "name": "python"
    }
  },
  "cells": [
    {
      "cell_type": "markdown",
      "metadata": {
        "id": "view-in-github",
        "colab_type": "text"
      },
      "source": [
        "<a href=\"https://colab.research.google.com/github/gabrielluizone/import-time/blob/main/InterTreino06.ipynb\" target=\"_parent\"><img src=\"https://colab.research.google.com/assets/colab-badge.svg\" alt=\"Open In Colab\"/></a>"
      ]
    },
    {
      "cell_type": "markdown",
      "source": [
        "<div class=\"markdown-google-sans\">\n",
        "\n",
        "# **Flíper**\n",
        "\n",
        "Flíper é um tipo de jogo onde uma bolinha de metal cai por um labirinto de caminhos até chegar na parte de baixo do labirinto. A quantidade de pontos que o jogador ganha depende do caminho que a bolinha seguir. O jogador pode controlar o percurso da bolinha mudando a posição de algumas portinhas do labirinto. Cada portinha pode estar na posição 0, que significa virada para a esquerda, ou na posição 1 que quer dizer virada para a direita. Considere o flíper da figura abaixo, que tem duas portinhas. A portinha `P` está na posição 1 e a portinha `R`, na posição 0. Desse jeito, a bolinha vai cair pelo caminho B.\n",
        "\n",
        "![Figura 1](https://api.neps.academy/image/667.png)\n",
        "\n",
        "**Figura 1**\n",
        "\n",
        "Você deve escrever um programa que, dadas as posições das portinhas `P` e `R` neste flíper da figura, diga por qual dos três caminhos, A, B ou C, a bolinha vai cair!\n",
        "\n",
        "## Entrada\n",
        "\n",
        "A entrada é composta por apenas uma linha contendo dois números `P` e `R`, indicando as posições das duas portinhas do flíper da figura.\n",
        "\n",
        "## Saída\n",
        "\n",
        "A saída do seu programa deve ser também apenas uma linha, contendo uma letra maiúscula que indica o caminho por onde a bolinha vai cair: 'A', 'B' ou 'C'.\n",
        "\n",
        "## Restrições\n",
        "\n",
        "- O número `P` pode ser 0 ou 1. O número `R` pode ser 0 ou 1.\n",
        "\n",
        "### Exemplos de Entrada\n",
        "\n",
        "```\n",
        "1 0\n",
        "0 0\n",
        "```\n",
        "\n",
        "### Exemplos de Saída\n",
        "\n",
        "```\n",
        "B\n",
        "C\n",
        "```\n",
        "\n",
        "**Traduzido por Arthur Freitas**\n",
        "```"
      ],
      "metadata": {
        "id": "rUtgj6-ukacb"
      }
    },
    {
      "cell_type": "code",
      "source": [
        "def main():\n",
        "  pr = list(map(int, input().split(' ')))\n",
        "\n",
        "  if pr[0] == 0:\n",
        "    return 'C'\n",
        "  elif pr[1] == 1:\n",
        "    return 'A'\n",
        "  else:\n",
        "    return 'B'"
      ],
      "metadata": {
        "id": "jyMfh4-ykaF1"
      },
      "execution_count": null,
      "outputs": []
    },
    {
      "cell_type": "code",
      "source": [
        "main()"
      ],
      "metadata": {
        "colab": {
          "base_uri": "https://localhost:8080/",
          "height": 52
        },
        "id": "SU00aqoj2nSV",
        "outputId": "5a09824a-b614-4864-d37c-606c9842ab57"
      },
      "execution_count": null,
      "outputs": [
        {
          "name": "stdout",
          "output_type": "stream",
          "text": [
            "1 0\n"
          ]
        },
        {
          "output_type": "execute_result",
          "data": {
            "text/plain": [
              "'B'"
            ],
            "application/vnd.google.colaboratory.intrinsic+json": {
              "type": "string"
            }
          },
          "metadata": {},
          "execution_count": 29
        }
      ]
    }
  ]
}
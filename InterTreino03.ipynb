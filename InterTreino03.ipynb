{
  "nbformat": 4,
  "nbformat_minor": 0,
  "metadata": {
    "colab": {
      "provenance": [],
      "authorship_tag": "ABX9TyPKd8Byj7qpq4DNEocUS0pX",
      "include_colab_link": true
    },
    "kernelspec": {
      "name": "python3",
      "display_name": "Python 3"
    },
    "language_info": {
      "name": "python"
    }
  },
  "cells": [
    {
      "cell_type": "markdown",
      "metadata": {
        "id": "view-in-github",
        "colab_type": "text"
      },
      "source": [
        "<a href=\"https://colab.research.google.com/github/gabrielluizone/import-time/blob/main/InterTreino03.ipynb\" target=\"_parent\"><img src=\"https://colab.research.google.com/assets/colab-badge.svg\" alt=\"Open In Colab\"/></a>"
      ]
    },
    {
      "cell_type": "markdown",
      "source": [
        "<div class=\"markdown-google-sans\">\n",
        "\n",
        "# **Lampadas**\n",
        "</div>\n"
      ],
      "metadata": {
        "id": "xBfIh774OQnz"
      }
    },
    {
      "cell_type": "code",
      "execution_count": 34,
      "metadata": {
        "id": "8868PW1HOP8k"
      },
      "outputs": [],
      "source": [
        "def main():\n",
        "  N = int(input())\n",
        "  CD = [int(x) for x in input().split(' ')]\n",
        "\n",
        "  counter = 0\n",
        "  min, x, max = 0,0,0\n",
        "\n",
        "  for i in range(N-2):\n",
        "    if (min == 0):\n",
        "      if (CD[min] == 1) and (CD[min+1] == 0) and (CD[min+2] == 0):\n",
        "        counter += 1\n",
        "      min += 1\n",
        "      x += 2\n",
        "      max += 3\n",
        "      continue\n",
        "    elif (max == N-1):\n",
        "      if (CD[max-2] == 1) and (CD[max-1] == 0) and (CD[max] == 0):\n",
        "        counter += 1\n",
        "      break\n",
        "    else:\n",
        "      if (CD[min] == 1) and (CD[x] == 0) and (CD[max] == 0):\n",
        "        counter += 1\n",
        "      min += 1\n",
        "      x += 1\n",
        "      max += 1\n",
        "\n",
        "  print(counter)"
      ]
    },
    {
      "cell_type": "code",
      "source": [
        "if __name__ == \"__main__\":\n",
        "    main()"
      ],
      "metadata": {
        "colab": {
          "base_uri": "https://localhost:8080/"
        },
        "id": "PsQLq2xeOZM4",
        "outputId": "06ff2b52-101b-4066-fcea-984207140f35"
      },
      "execution_count": 35,
      "outputs": [
        {
          "output_type": "stream",
          "name": "stdout",
          "text": [
            "17\n",
            "1 1 1 0 1 0 0 1 0 1 0 0 1 1 1 1 0\n",
            "2\n"
          ]
        }
      ]
    },
    {
      "cell_type": "code",
      "source": [
        "main()"
      ],
      "metadata": {
        "colab": {
          "base_uri": "https://localhost:8080/"
        },
        "id": "PwKVIMaXQ4xR",
        "outputId": "d971652a-ae2e-469e-b010-ff30ae44d2c0"
      },
      "execution_count": 36,
      "outputs": [
        {
          "output_type": "stream",
          "name": "stdout",
          "text": [
            "8\n",
            "1 1 1 1 0 1 1 1\n",
            "0\n"
          ]
        }
      ]
    },
    {
      "cell_type": "code",
      "source": [
        "main()"
      ],
      "metadata": {
        "colab": {
          "base_uri": "https://localhost:8080/"
        },
        "id": "i_oN5xLTRBuF",
        "outputId": "24bee3a3-efee-427b-b72e-780bc001a29d"
      },
      "execution_count": 37,
      "outputs": [
        {
          "output_type": "stream",
          "name": "stdout",
          "text": [
            "3\n",
            "100\n",
            "0\n"
          ]
        }
      ]
    },
    {
      "cell_type": "code",
      "source": [
        "main()"
      ],
      "metadata": {
        "colab": {
          "base_uri": "https://localhost:8080/"
        },
        "id": "XG20XDkFbTSZ",
        "outputId": "7c93077c-5b68-4d25-8a95-293f25043963"
      },
      "execution_count": 38,
      "outputs": [
        {
          "output_type": "stream",
          "name": "stdout",
          "text": [
            "3\n",
            "010\n",
            "0\n"
          ]
        }
      ]
    }
  ]
}
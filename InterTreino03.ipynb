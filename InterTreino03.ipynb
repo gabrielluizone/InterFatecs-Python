{
  "nbformat": 4,
  "nbformat_minor": 0,
  "metadata": {
    "colab": {
      "provenance": [],
      "authorship_tag": "ABX9TyM2ZgaU+CP3ilS9NTUG3MT6",
      "include_colab_link": true
    },
    "kernelspec": {
      "name": "python3",
      "display_name": "Python 3"
    },
    "language_info": {
      "name": "python"
    }
  },
  "cells": [
    {
      "cell_type": "markdown",
      "metadata": {
        "id": "view-in-github",
        "colab_type": "text"
      },
      "source": [
        "<a href=\"https://colab.research.google.com/github/gabrielluizone/import-time/blob/main/InterTreino03.ipynb\" target=\"_parent\"><img src=\"https://colab.research.google.com/assets/colab-badge.svg\" alt=\"Open In Colab\"/></a>"
      ]
    },
    {
      "cell_type": "markdown",
      "source": [
        "<div class=\"markdown-google-sans\">\n",
        "\n",
        "# **Lampadas**\n",
        "</div>\n"
      ],
      "metadata": {
        "id": "xBfIh774OQnz"
      }
    },
    {
      "cell_type": "code",
      "execution_count": 16,
      "metadata": {
        "id": "8868PW1HOP8k"
      },
      "outputs": [],
      "source": [
        "def main():\n",
        "  N = int(input())\n",
        "  CD = [int(x) for x in input().split(' ')]\n",
        "\n",
        "  counter = 0\n",
        "  min, x, max = 0,0,0\n",
        "\n",
        "  for i in range(N-2):\n",
        "    if (min == 0):\n",
        "      if (CD[min] == 1) and (CD[min+1] == 0) and (CD[min+2] == 0):\n",
        "        counter += 1\n",
        "      min += 1\n",
        "      x += 2\n",
        "      max += 3\n",
        "    elif (max == N-1):\n",
        "      if (CD[max-2] == 1) and (CD[max-1] == 0) and (CD[max] == 0):\n",
        "        counter += 1\n",
        "      break\n",
        "    else:\n",
        "      if (CD[min] == 1) and (CD[x] == 0) and (CD[max] == 0):\n",
        "        counter += 1\n",
        "      min += 1\n",
        "      x += 1\n",
        "      max += 1\n",
        "\n",
        "  print(counter)"
      ]
    },
    {
      "cell_type": "code",
      "source": [
        "if __name__ == \"__main__\":\n",
        "    main()"
      ],
      "metadata": {
        "colab": {
          "base_uri": "https://localhost:8080/"
        },
        "id": "PsQLq2xeOZM4",
        "outputId": "67a17655-b7dc-407e-97e3-31e25969088e"
      },
      "execution_count": 17,
      "outputs": [
        {
          "output_type": "stream",
          "name": "stdout",
          "text": [
            "17\n",
            "1 1 1 0 1 0 0 1 0 1 0 0 1 1 1 1 0\n",
            "2\n"
          ]
        }
      ]
    },
    {
      "cell_type": "code",
      "source": [
        "main()"
      ],
      "metadata": {
        "colab": {
          "base_uri": "https://localhost:8080/"
        },
        "id": "PwKVIMaXQ4xR",
        "outputId": "53b58a59-8ed9-4b46-81e1-227efff9b542"
      },
      "execution_count": 18,
      "outputs": [
        {
          "output_type": "stream",
          "name": "stdout",
          "text": [
            "8\n",
            "1 1 1 1 0 1 1 1\n",
            "0\n"
          ]
        }
      ]
    },
    {
      "cell_type": "code",
      "source": [
        "# Ué?\n",
        "main()"
      ],
      "metadata": {
        "colab": {
          "base_uri": "https://localhost:8080/"
        },
        "id": "i_oN5xLTRBuF",
        "outputId": "999d324f-f1cf-4f57-fd31-aa977a12ce1c"
      },
      "execution_count": 19,
      "outputs": [
        {
          "output_type": "stream",
          "name": "stdout",
          "text": [
            "3\n",
            "100\n",
            "0\n"
          ]
        }
      ]
    }
  ]
}
{
  "nbformat": 4,
  "nbformat_minor": 0,
  "metadata": {
    "colab": {
      "provenance": [],
      "authorship_tag": "ABX9TyMCn3OOBkpuJl7lmqf6e6vP",
      "include_colab_link": true
    },
    "kernelspec": {
      "name": "python3",
      "display_name": "Python 3"
    },
    "language_info": {
      "name": "python"
    }
  },
  "cells": [
    {
      "cell_type": "markdown",
      "metadata": {
        "id": "view-in-github",
        "colab_type": "text"
      },
      "source": [
        "<a href=\"https://colab.research.google.com/github/gabrielluizone/import-time/blob/main/InterTreino03.ipynb\" target=\"_parent\"><img src=\"https://colab.research.google.com/assets/colab-badge.svg\" alt=\"Open In Colab\"/></a>"
      ]
    },
    {
      "cell_type": "markdown",
      "source": [
        "<div class=\"markdown-google-sans\">\n",
        "\n",
        "# **Código (OBI 2015)**\n",
        "</div>\n",
        "\n",
        "Gabriel inventou um código para representar números naturais, usando uma sequência de zeros e uns. Funciona assim, o número natural é representado pela quantidade de vezes que o padrão \"100\" aparece na sequência.\n",
        "\n",
        "Por exemplo, na sequência 11101001010011110, o padrão aparece duas vezes e na sequência 11101010111110111010101 ele não aparece nenhuma vez. Você deve ajudar Gabriel implementar um programa que, dada a sequência de zeros e uns, calcule quantas vezes o padrão \"100\" aparece nela.\n",
        "\n",
        "### Entrada\n",
        "\n",
        "A primeira linha da entrada contém um inteiro N, o tamanho da sequência. A segunda linha contém a sequência de N zeros e uns, separados por espaço em branco.\n",
        "\n",
        "### Saída\n",
        "\n",
        "Seu programa deve imprimir um inteiro, quantas vezes o padrão \"100\" aparece na sequência.\n",
        "\n",
        "### Restrições\n",
        "\n",
        "- 1 ≤ N ≤ 10^4\n",
        "\n",
        "### Exemplos de Entrada\n",
        "\n",
        "```\n",
        "17\n",
        "1 1 1 0 1 0 0 1 0 1 0 0 1 1 1 1 0\n",
        "```\n",
        "\n",
        "```\n",
        "8\n",
        "1 1 1 1 0 1 1 1\n",
        "```\n",
        "\n",
        "```\n",
        "3\n",
        "1 0 0\n",
        "```\n",
        "\n",
        "```\n",
        "3\n",
        "0 1 0\n",
        "```\n",
        "\n",
        "### Exemplos de Saída\n",
        "\n",
        "```\n",
        "2\n",
        "```\n",
        "\n",
        "```\n",
        "0\n",
        "```\n",
        "\n",
        "```\n",
        "1\n",
        "```\n",
        "\n",
        "```\n",
        "0\n",
        "```\n"
      ],
      "metadata": {
        "id": "xBfIh774OQnz"
      }
    },
    {
      "cell_type": "code",
      "execution_count": null,
      "metadata": {
        "id": "8868PW1HOP8k"
      },
      "outputs": [],
      "source": [
        "def main():\n",
        "  N = int(input())\n",
        "  CD = [int(x) for x in input().split(' ')]\n",
        "\n",
        "  counter = 0\n",
        "  min, x, max = 0,0,0\n",
        "\n",
        "  for i in range(N-2):\n",
        "    if (min == 0):\n",
        "      if (CD[min] == 1) and (CD[min+1] == 0) and (CD[min+2] == 0):\n",
        "        counter += 1\n",
        "      min += 1\n",
        "      x += 2\n",
        "      max += 3\n",
        "      continue\n",
        "    elif (max == N-1):\n",
        "      if (CD[max-2] == 1) and (CD[max-1] == 0) and (CD[max] == 0):\n",
        "        counter += 1\n",
        "      break\n",
        "    else:\n",
        "      if (CD[min] == 1) and (CD[x] == 0) and (CD[max] == 0):\n",
        "        counter += 1\n",
        "      min += 1\n",
        "      x += 1\n",
        "      max += 1\n",
        "\n",
        "  print(counter)"
      ]
    },
    {
      "cell_type": "code",
      "source": [
        "if __name__ == \"__main__\":\n",
        "    main()"
      ],
      "metadata": {
        "colab": {
          "base_uri": "https://localhost:8080/"
        },
        "id": "PsQLq2xeOZM4",
        "outputId": "06ff2b52-101b-4066-fcea-984207140f35"
      },
      "execution_count": null,
      "outputs": [
        {
          "output_type": "stream",
          "name": "stdout",
          "text": [
            "17\n",
            "1 1 1 0 1 0 0 1 0 1 0 0 1 1 1 1 0\n",
            "2\n"
          ]
        }
      ]
    },
    {
      "cell_type": "code",
      "source": [
        "main()"
      ],
      "metadata": {
        "colab": {
          "base_uri": "https://localhost:8080/"
        },
        "id": "PwKVIMaXQ4xR",
        "outputId": "d971652a-ae2e-469e-b010-ff30ae44d2c0"
      },
      "execution_count": null,
      "outputs": [
        {
          "output_type": "stream",
          "name": "stdout",
          "text": [
            "8\n",
            "1 1 1 1 0 1 1 1\n",
            "0\n"
          ]
        }
      ]
    },
    {
      "cell_type": "code",
      "source": [
        "main()"
      ],
      "metadata": {
        "colab": {
          "base_uri": "https://localhost:8080/"
        },
        "id": "i_oN5xLTRBuF",
        "outputId": "24bee3a3-efee-427b-b72e-780bc001a29d"
      },
      "execution_count": null,
      "outputs": [
        {
          "output_type": "stream",
          "name": "stdout",
          "text": [
            "3\n",
            "100\n",
            "0\n"
          ]
        }
      ]
    },
    {
      "cell_type": "code",
      "source": [
        "main()"
      ],
      "metadata": {
        "id": "XG20XDkFbTSZ",
        "outputId": "7c93077c-5b68-4d25-8a95-293f25043963",
        "colab": {
          "base_uri": "https://localhost:8080/"
        }
      },
      "execution_count": null,
      "outputs": [
        {
          "output_type": "stream",
          "name": "stdout",
          "text": [
            "3\n",
            "010\n",
            "0\n"
          ]
        }
      ]
    }
  ]
}
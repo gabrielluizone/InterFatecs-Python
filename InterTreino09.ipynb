{
  "nbformat": 4,
  "nbformat_minor": 0,
  "metadata": {
    "colab": {
      "provenance": [],
      "authorship_tag": "ABX9TyNecYu/k3nifkhjyiviN1px",
      "include_colab_link": true
    },
    "kernelspec": {
      "name": "python3",
      "display_name": "Python 3"
    },
    "language_info": {
      "name": "python"
    }
  },
  "cells": [
    {
      "cell_type": "markdown",
      "metadata": {
        "id": "view-in-github",
        "colab_type": "text"
      },
      "source": [
        "<a href=\"https://colab.research.google.com/github/gabrielluizone/import-time/blob/main/InterTreino09.ipynb\" target=\"_parent\"><img src=\"https://colab.research.google.com/assets/colab-badge.svg\" alt=\"Open In Colab\"/></a>"
      ]
    },
    {
      "cell_type": "markdown",
      "source": [
        "<div class=\"markdown-google-sans\">\n",
        "\n",
        "# **[Olimpíadas](https://neps.academy/br/exercise/243)**\n",
        "\n",
        "O Comitê Olímpico Internacional (COI) está visitando as cidades candidatas a sediar as Olimpíadas de 2016. O Rio de Janeiro é uma das cidades concorrentes, mas a competição é muito acirrada.\n",
        "\n",
        "O COI tem um conjunto de exigências que devem ser obedecidas pelas cidades candidatas, como boas arenas para os jogos (ginásios, campos de futebol, pistas de atletismo, parque aquático,…), bons alojamentos, um plano para o tráfego de veículos durante os jogos, etc. Durante sua visita ao Rio de Janeiro, o COI colocou ainda mais uma exigência: a demonstração da qualidade dos sistemas de informática. Especificamente, o COI quer que a organização local demonstre a sua capacidade em informática produzindo um programa que gere a classificação final dos países, considerando o número de medalhas recebidas pelos atletas de cada país.\n",
        "\n",
        "Sua tarefa é escrever um programa que, dada a informação dos países que receberam medalhas de ouro, prata e bronze em cada modalidade, gere a lista de classificação dos países na competição. Nesta tarefa, os países serão identificados por números inteiros. O melhor colocado deve ser o país que conseguiu o maior número de medalhas de ouro. Se houver empate entre países no número de medalhas de ouro, o melhor colocado entre esses é o país que conseguiu o maior número de medalhas de prata. Se houver empate também no número de medalhas de prata, o melhor colocado entre esses é o país que recebeu o maior número de medalhas de bronze. Se ainda assim houver empate entre dois países, o melhor classificado é o que tem o menor número de identificação.\n",
        "\n",
        "## Entrada\n",
        "\n",
        "A entrada contém um único conjunto de testes, que deve ser lido do dispositivo de entrada padrão (normalmente o teclado).\n",
        "\n",
        "A primeira linha da entrada contém dois números inteiros `N` e `M`, separados por um espaço em branco, indicando respectivamente o número de países e número de modalidades esportivas envolvidas na competição. Os países são identificados por números inteiros de 1 a `N`.\n",
        "\n",
        "Cada uma das `M` linhas seguintes contém três números inteiros `O`, `P` e `B`, separados por um espaço em branco, representando os países cujos atletas receberam respectivamente medalhas de ouro, prata e bronze. Assim, se uma das `M` linhas contém os números 3 2 1, significa que nessa modalidade a medalha de ouro foi ganha pelo país 3, a de prata pelo país 2 e a de bronze pelo país 1.\n",
        "\n",
        "## Saída\n",
        "\n",
        "Seu programa deve imprimir, na saída padrão, uma linha contendo `N` números, separados por um espaço em branco, representando os países na ordem decrescente de classificação (o primeiro número representa o país que é o primeiro colocado, o segundo número representa o país que é o segundo colocado, e assim por diante).\n",
        "\n",
        "## Restrições\n",
        "\n",
        "- 1 ≤ N ≤ 100\n",
        "- 1 ≤ M ≤ 100\n",
        "- 1 ≤ O ≤ N\n",
        "- 1 ≤ P ≤ N\n",
        "- 1 ≤ B ≤ N\n",
        "\n",
        "---\n",
        "\n",
        "## Exemplos de Entrada\n",
        "\n",
        "```\n",
        "2 2\n",
        "2 1 2\n",
        "1 2 2\n",
        "```\n",
        "\n",
        "```\n",
        "4 3\n",
        "3 2 1\n",
        "4 3 1\n",
        "4 3 1\n",
        "```\n",
        "\n",
        "```\n",
        "3 3\n",
        "3 1 2\n",
        "2 3 1\n",
        "1 2 3\n",
        "```\n",
        "\n",
        "## Exemplos de Saída\n",
        "\n",
        "```\n",
        "2 1\n",
        "```\n",
        "\n",
        "```\n",
        "4 3 2 1\n",
        "```\n",
        "\n",
        "```\n",
        "1 2 3\n",
        "```"
      ],
      "metadata": {
        "id": "rUtgj6-ukacb"
      }
    },
    {
      "cell_type": "code",
      "source": [
        "def main():\n",
        "  gols = []\n",
        "  times = [['A','B'],['C','D'],['E','F'],['G','H'],['I','J'],['K','L'],['M','N'],['O','P']]\n",
        "  vencedores = []\n",
        "\n",
        "  for i in range(15): gols.append(list(map(int, input().split(' '))))\n",
        "\n",
        "  # Oitavas-de-final\n",
        "  for i in range(8):\n",
        "    if gols[i][0] > gols[i][1]: vencedores.append(times[i][0])\n",
        "    else: vencedores.append(times[i][1])\n",
        "\n",
        "  times.clear()\n",
        "  gols = gols[8:]\n",
        "\n",
        "  for i in range(0, 8, 2):\n",
        "    times.append([vencedores[i], vencedores[i+1]])\n",
        "\n",
        "  vencedores.clear()\n",
        "\n",
        "  # Quartas-de-final\n",
        "  for i in range(4):\n",
        "    if gols[i][0] > gols[i][1]: vencedores.append(times[i][0])\n",
        "    else: vencedores.append(times[i][1])\n",
        "\n",
        "  times.clear()\n",
        "  gols = gols[4:]\n",
        "\n",
        "  for i in range(0, 4, 2):\n",
        "    times.append([vencedores[i], vencedores[i+1]])\n",
        "\n",
        "  vencedores.clear()\n",
        "\n",
        "  # Semifinais\n",
        "  for i in range(2):\n",
        "    if gols[i][0] > gols[i][1]: vencedores.append(times[i][0])\n",
        "    else: vencedores.append(times[i][1])\n",
        "\n",
        "  times.clear()\n",
        "  gols = gols[2:][0]\n",
        "  times.append([vencedores[0], vencedores[1]])\n",
        "\n",
        "  # Finais\n",
        "  if gols[0] > gols[1]: print(times[0][0])\n",
        "  else: print(times[0][1])\n",
        "\n",
        "if __name__ == '__main__':\n",
        "  main()"
      ],
      "metadata": {
        "id": "jyMfh4-ykaF1",
        "colab": {
          "base_uri": "https://localhost:8080/"
        },
        "outputId": "ccf984c8-b071-408e-b240-81d6c78cd1ab"
      },
      "execution_count": null,
      "outputs": [
        {
          "output_type": "stream",
          "name": "stdout",
          "text": [
            "4 1\n",
            "1 0\n",
            "0 4\n",
            "3 1\n",
            "2 3\n",
            "1 2\n",
            "2 0\n",
            "0 2\n",
            "1 2\n",
            "4 3\n",
            "0 1\n",
            "3 2\n",
            "3 4\n",
            "1 4\n",
            "1 0\n",
            "F\n"
          ]
        }
      ]
    },
    {
      "cell_type": "code",
      "source": [
        "[2 1 0 1 2 3 3 2 1 0 1 2 3]"
      ],
      "metadata": {
        "id": "_vS95J_3Nmdn"
      },
      "execution_count": null,
      "outputs": []
    }
  ]
}
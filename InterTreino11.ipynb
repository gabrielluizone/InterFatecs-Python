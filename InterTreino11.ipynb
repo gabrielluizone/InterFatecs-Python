{
  "nbformat": 4,
  "nbformat_minor": 0,
  "metadata": {
    "colab": {
      "provenance": [],
      "authorship_tag": "ABX9TyM3ShD3fAbumIgugeJe98Zl",
      "include_colab_link": true
    },
    "kernelspec": {
      "name": "python3",
      "display_name": "Python 3"
    },
    "language_info": {
      "name": "python"
    }
  },
  "cells": [
    {
      "cell_type": "markdown",
      "metadata": {
        "id": "view-in-github",
        "colab_type": "text"
      },
      "source": [
        "<a href=\"https://colab.research.google.com/github/gabrielluizone/import-time/blob/main/InterTreino11.ipynb\" target=\"_parent\"><img src=\"https://colab.research.google.com/assets/colab-badge.svg\" alt=\"Open In Colab\"/></a>"
      ]
    },
    {
      "cell_type": "markdown",
      "source": [
        "<div class=\"markdown-google-sans\">\n",
        "\n",
        "# **[Campeonato (OBI 2018)](https://neps.academy/br/exercise/206)**\n",
        "\n",
        "O sorteio das posições dos jogadores na chave decisiva da copa do mundo de ping-pong está deixando a todos nervosos. É que ninguém quer pegar o jogador mais bem ranqueado, o Master Kung, logo nas oitavas de final, ou nas quartas de final. Melhor que só seja possível enfrentar Master Kung na semifinal ou na final! Os jogadores são identificados por números inteiros de 1 a 16, sendo que Master Kung é o jogador de número 1. O jogador para o qual nós estamos torcendo, Master Lu, tem o número 9.\n",
        "\n",
        "A chave possui 16 posições também numeradas de 1 a 16, como na figura abaixo. A organização da copa vai fazer um sorteio para definir em qual posição cada jogador vai iniciar a chave decisiva. Nas oitavas de final, o jogador na posição 1 enfrenta o jogador na posição 2; o da posição 3 enfrenta o da posição 4; e assim por diante, como na figura.\n",
        "\n",
        "![Figura 1](https://api.neps.academy/image/133.png)\n",
        "\n",
        "O objetivo deste problema é decidir em que fase da chave os jogadores Master Kung e Master Lu vão se enfrentar, caso vençam todas as suas respectivas partidas antes de se enfrentarem. Por exemplo, se o sorteio da chave determinar a seguinte ordem de jogadores da posição 1 até a 16: [4, 11, 3, 2, 8, 13, 14, 5, 16, 9, 12, 6, 10, 7, 1, 15], eles vão se enfrentar na semifinal.\n",
        "\n",
        "#### Entrada\n",
        "\n",
        "A primeira e única linha da entrada contém 16 números inteiros distintos, de valores entre 1 e 16. Ou seja, uma permutação dos inteiros entre 1 e 16. A permutação define a ordem dos jogadores nas posições da chave decisiva da copa.\n",
        "\n",
        "#### Saída\n",
        "\n",
        "Seu programa deve produzir uma única linha contendo uma das palavras seguintes, decidindo a fase em que vão se enfrentar os jogadores Master Kung e Master Lu, se eles vencerem todas as suas partidas antes de se enfrentarem: oitavas, quartas, semifinal ou final.\n",
        "\n",
        "#### Restrições\n",
        "\n",
        "- 1 ≤ X_i ≤ 16\n",
        "\n",
        "#### Informações sobre a pontuação\n",
        "\n",
        "Para um conjunto de casos de testes valendo 20 pontos, Master Kung (o jogador 1) está na posição 1 da chave.\n",
        "\n",
        "---\n",
        "\n",
        "### Exemplos de Entrada | Exemplos de Saída\n",
        "\n",
        "    4 11 3 2 8 13 14 5 16 9 12 6 10 7 1 15\n",
        "- **semifinal**\n",
        "\n",
        "\n",
        "    4 11 8 13 14 5 1 9 16 2 12 6 3 7 10 15\n",
        "- **oitavas**\n",
        "\n",
        "\n",
        "    4 11 1 13 14 5 3 8 16 2 12 6 9 7 10 15\n",
        "- **final**\n",
        "\n",
        "\n",
        "    4 11 8 13 9 5 3 1 16 2 12 6 7 14 10 15\n",
        "- **quartas**"
      ],
      "metadata": {
        "id": "rUtgj6-ukacb"
      }
    },
    {
      "cell_type": "code",
      "source": [
        "# Ok Ok, eu sei que isto não parece lagal, mas foi a ssolução que surgiu na minha mente.\n",
        "# Sei que existe outros modos, mas estou pensando em rapidez e acertividade\n",
        "def main():\n",
        "  lutas = list(map(int, input().split(' ')))\n",
        "  temp = []\n",
        "  if ((1 in lutas[:8]) and (9 in lutas[:8])) or ((1 in lutas[8:]) and (9 in lutas[8:])):\n",
        "    tempE = lutas[:8]\n",
        "    tempD = lutas[8:]\n",
        "\n",
        "    if (((1 in tempE[:4]) and (9 in tempE[:4])) or ((1 in tempE[4:]) and (9 in tempE[4:]))) or ((1 in tempD[:4]) and (9 in tempD[:4])) or ((1 in tempD[4:]) and (9 in tempD[4:])):\n",
        "      tempE0 = tempE[:4]\n",
        "      tempE1 = tempE[4:]\n",
        "      tempD0 = tempD[:4]\n",
        "      tempD1 = tempD[4:]\n",
        "\n",
        "      if ((((1 in tempE0[:2]) and (9 in tempE0[:2])) or ((1 in tempE0[2:]) and (9 in tempE0[2:]))) or ((1 in tempE1[:2]) and (9 in tempE1[:2])) or ((1 in tempE1[2:]) and (9 in tempE1[2:]))) or\\\n",
        "      ((((1 in tempD0[:2]) and (9 in tempD0[:2])) or ((1 in tempD0[2:]) and (9 in tempD0[2:]))) or ((1 in tempD1[:2]) and (9 in tempD1[:2])) or ((1 in tempD1[2:]) and (9 in tempD1[2:]))):\n",
        "        print('Oitavas')\n",
        "\n",
        "      else: print('Quartas')\n",
        "\n",
        "    else: print('Semifinal')\n",
        "\n",
        "  else: print('Final')\n",
        "\n",
        "if __name__ == '__main__':\n",
        "  main()"
      ],
      "metadata": {
        "id": "jyMfh4-ykaF1",
        "colab": {
          "base_uri": "https://localhost:8080/"
        },
        "outputId": "ddda95c2-a260-411b-ef7c-5afc819c0524"
      },
      "execution_count": 24,
      "outputs": [
        {
          "output_type": "stream",
          "name": "stdout",
          "text": [
            "4 11 3 2 8 13 14 5 16 9 12 6 10 7 1 15\n",
            "Semifinal\n"
          ]
        }
      ]
    },
    {
      "cell_type": "code",
      "source": [
        "main()"
      ],
      "metadata": {
        "colab": {
          "base_uri": "https://localhost:8080/"
        },
        "id": "FxtTO8jonFzp",
        "outputId": "1504e8b0-3edd-4886-e69e-aea0a4011842"
      },
      "execution_count": 25,
      "outputs": [
        {
          "output_type": "stream",
          "name": "stdout",
          "text": [
            "4 11 8 13 14 5 1 9 16 2 12 6 3 7 10 15\n",
            "Oitavas\n"
          ]
        }
      ]
    },
    {
      "cell_type": "code",
      "source": [
        "main()"
      ],
      "metadata": {
        "colab": {
          "base_uri": "https://localhost:8080/"
        },
        "id": "e9DRb57koFfH",
        "outputId": "f679169c-a115-48b5-9ed0-6f0fdfef2e9c"
      },
      "execution_count": 26,
      "outputs": [
        {
          "output_type": "stream",
          "name": "stdout",
          "text": [
            "4 11 1 13 14 5 3 8 16 2 12 6 9 7 10 15\n",
            "Final\n"
          ]
        }
      ]
    },
    {
      "cell_type": "code",
      "source": [
        "main()"
      ],
      "metadata": {
        "colab": {
          "base_uri": "https://localhost:8080/"
        },
        "id": "Ao1Fgx5npqAH",
        "outputId": "7d65b51b-d5ac-4494-b9e4-74c725ffb684"
      },
      "execution_count": 27,
      "outputs": [
        {
          "output_type": "stream",
          "name": "stdout",
          "text": [
            "4 11 8 13 9 5 3 1 16 2 12 6 7 14 10 15\n",
            "Quartas\n"
          ]
        }
      ]
    }
  ]
}